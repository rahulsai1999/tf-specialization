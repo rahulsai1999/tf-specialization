{
  "nbformat": 4,
  "nbformat_minor": 0,
  "metadata": {
    "colab": {
      "name": "dance_form.ipynb",
      "provenance": [],
      "collapsed_sections": []
    },
    "kernelspec": {
      "name": "python3",
      "display_name": "Python 3"
    },
    "accelerator": "GPU"
  },
  "cells": [
    {
      "cell_type": "code",
      "metadata": {
        "id": "XjquzApzI-dt",
        "colab_type": "code",
        "colab": {
          "base_uri": "https://localhost:8080/",
          "height": 122
        },
        "outputId": "d08d3460-7f0c-420a-82ba-47f2e073c5d6"
      },
      "source": [
        "from google.colab import drive\n",
        "drive.mount('/content/drive')"
      ],
      "execution_count": null,
      "outputs": [
        {
          "output_type": "stream",
          "text": [
            "Go to this URL in a browser: https://accounts.google.com/o/oauth2/auth?client_id=947318989803-6bn6qk8qdgf4n4g3pfee6491hc0brc4i.apps.googleusercontent.com&redirect_uri=urn%3aietf%3awg%3aoauth%3a2.0%3aoob&response_type=code&scope=email%20https%3a%2f%2fwww.googleapis.com%2fauth%2fdocs.test%20https%3a%2f%2fwww.googleapis.com%2fauth%2fdrive%20https%3a%2f%2fwww.googleapis.com%2fauth%2fdrive.photos.readonly%20https%3a%2f%2fwww.googleapis.com%2fauth%2fpeopleapi.readonly\n",
            "\n",
            "Enter your authorization code:\n",
            "··········\n",
            "Mounted at /content/drive\n"
          ],
          "name": "stdout"
        }
      ]
    },
    {
      "cell_type": "code",
      "metadata": {
        "id": "8xzjos7WJKUx",
        "colab_type": "code",
        "colab": {}
      },
      "source": [
        "!unzip '/content/drive/My Drive/Colab Data/0664343c9a8f11ea.zip'"
      ],
      "execution_count": null,
      "outputs": []
    },
    {
      "cell_type": "code",
      "metadata": {
        "id": "MfmYSRhpp1hD",
        "colab_type": "code",
        "colab": {
          "base_uri": "https://localhost:8080/",
          "height": 204
        },
        "outputId": "6828cf00-6f2e-42bf-e408-76da748c27a7"
      },
      "source": [
        "!wget --no-check-certificate \\\n",
        "    https://storage.googleapis.com/mledu-datasets/inception_v3_weights_tf_dim_ordering_tf_kernels_notop.h5 \\\n",
        "    -O /tmp/inception_v3_weights_tf_dim_ordering_tf_kernels_notop.h5"
      ],
      "execution_count": null,
      "outputs": [
        {
          "output_type": "stream",
          "text": [
            "--2020-06-25 08:45:40--  https://storage.googleapis.com/mledu-datasets/inception_v3_weights_tf_dim_ordering_tf_kernels_notop.h5\n",
            "Resolving storage.googleapis.com (storage.googleapis.com)... 108.177.119.128, 2a00:1450:4013:c00::80\n",
            "Connecting to storage.googleapis.com (storage.googleapis.com)|108.177.119.128|:443... connected.\n",
            "HTTP request sent, awaiting response... 200 OK\n",
            "Length: 87910968 (84M) [application/x-hdf]\n",
            "Saving to: ‘/tmp/inception_v3_weights_tf_dim_ordering_tf_kernels_notop.h5’\n",
            "\n",
            "\r          /tmp/ince   0%[                    ]       0  --.-KB/s               \r         /tmp/incep  66%[============>       ]  55.72M   279MB/s               \r/tmp/inception_v3_w 100%[===================>]  83.84M   295MB/s    in 0.3s    \n",
            "\n",
            "2020-06-25 08:45:40 (295 MB/s) - ‘/tmp/inception_v3_weights_tf_dim_ordering_tf_kernels_notop.h5’ saved [87910968/87910968]\n",
            "\n"
          ],
          "name": "stdout"
        }
      ]
    },
    {
      "cell_type": "code",
      "metadata": {
        "id": "sxkGWTgqJWBs",
        "colab_type": "code",
        "colab": {}
      },
      "source": [
        "import numpy as np\n",
        "import pandas as pd\n",
        "import tensorflow as tf\n",
        "from tensorflow import keras\n",
        "from tensorflow.keras import Model\n",
        "from tensorflow.keras.models import Sequential\n",
        "from tensorflow.keras.layers import Dense, Dropout, Flatten"
      ],
      "execution_count": null,
      "outputs": []
    },
    {
      "cell_type": "code",
      "metadata": {
        "id": "ZZzfupNIKIZj",
        "colab_type": "code",
        "colab": {}
      },
      "source": [
        "from tensorflow.keras.preprocessing.image import ImageDataGenerator\n",
        "train_datagen = ImageDataGenerator(\n",
        "      rescale=1./255,\n",
        "      rotation_range=40,\n",
        "      width_shift_range=0.2,\n",
        "      height_shift_range=0.2,\n",
        "      shear_range=0.2,\n",
        "      zoom_range=0.2,\n",
        "      horizontal_flip=True,\n",
        "      fill_mode='nearest')\n",
        "validation_datagen = ImageDataGenerator(rescale=1/255)"
      ],
      "execution_count": null,
      "outputs": []
    },
    {
      "cell_type": "code",
      "metadata": {
        "id": "rzbUmEaJMCRO",
        "colab_type": "code",
        "colab": {
          "base_uri": "https://localhost:8080/",
          "height": 204
        },
        "outputId": "9a70b46b-76a7-4397-fe28-ad3ec19d202c"
      },
      "source": [
        "train_data=pd.read_csv('dataset/train.csv')\n",
        "train_data.head()"
      ],
      "execution_count": null,
      "outputs": [
        {
          "output_type": "execute_result",
          "data": {
            "text/html": [
              "<div>\n",
              "<style scoped>\n",
              "    .dataframe tbody tr th:only-of-type {\n",
              "        vertical-align: middle;\n",
              "    }\n",
              "\n",
              "    .dataframe tbody tr th {\n",
              "        vertical-align: top;\n",
              "    }\n",
              "\n",
              "    .dataframe thead th {\n",
              "        text-align: right;\n",
              "    }\n",
              "</style>\n",
              "<table border=\"1\" class=\"dataframe\">\n",
              "  <thead>\n",
              "    <tr style=\"text-align: right;\">\n",
              "      <th></th>\n",
              "      <th>Image</th>\n",
              "      <th>target</th>\n",
              "    </tr>\n",
              "  </thead>\n",
              "  <tbody>\n",
              "    <tr>\n",
              "      <th>0</th>\n",
              "      <td>96.jpg</td>\n",
              "      <td>manipuri</td>\n",
              "    </tr>\n",
              "    <tr>\n",
              "      <th>1</th>\n",
              "      <td>163.jpg</td>\n",
              "      <td>bharatanatyam</td>\n",
              "    </tr>\n",
              "    <tr>\n",
              "      <th>2</th>\n",
              "      <td>450.jpg</td>\n",
              "      <td>odissi</td>\n",
              "    </tr>\n",
              "    <tr>\n",
              "      <th>3</th>\n",
              "      <td>219.jpg</td>\n",
              "      <td>kathakali</td>\n",
              "    </tr>\n",
              "    <tr>\n",
              "      <th>4</th>\n",
              "      <td>455.jpg</td>\n",
              "      <td>odissi</td>\n",
              "    </tr>\n",
              "  </tbody>\n",
              "</table>\n",
              "</div>"
            ],
            "text/plain": [
              "     Image         target\n",
              "0   96.jpg       manipuri\n",
              "1  163.jpg  bharatanatyam\n",
              "2  450.jpg         odissi\n",
              "3  219.jpg      kathakali\n",
              "4  455.jpg         odissi"
            ]
          },
          "metadata": {
            "tags": []
          },
          "execution_count": 94
        }
      ]
    },
    {
      "cell_type": "code",
      "metadata": {
        "id": "P5mAvDE2N72_",
        "colab_type": "code",
        "colab": {}
      },
      "source": [
        "from sklearn.model_selection import train_test_split\n",
        "train, validation = train_test_split(train_data, test_size=0.3,shuffle=True)"
      ],
      "execution_count": null,
      "outputs": []
    },
    {
      "cell_type": "code",
      "metadata": {
        "id": "lVywCGc9MR3R",
        "colab_type": "code",
        "colab": {
          "base_uri": "https://localhost:8080/",
          "height": 34
        },
        "outputId": "c895c34a-6f77-4c30-f7d6-2485cd253b7e"
      },
      "source": [
        "train_ag=train_datagen.flow_from_dataframe(train,directory='dataset/train',x_col='Image',y_col='target',\n",
        "                                           target_size=(400,250), class_mode=\"categorical\",batch_size=12,shuffle=True)"
      ],
      "execution_count": null,
      "outputs": [
        {
          "output_type": "stream",
          "text": [
            "Found 254 validated image filenames belonging to 8 classes.\n"
          ],
          "name": "stdout"
        }
      ]
    },
    {
      "cell_type": "code",
      "metadata": {
        "id": "e0g_I4Z7OHKW",
        "colab_type": "code",
        "colab": {
          "base_uri": "https://localhost:8080/",
          "height": 34
        },
        "outputId": "f449b276-2a73-4009-e318-0f49cc001446"
      },
      "source": [
        "validation_ag=validation_datagen.flow_from_dataframe(validation,directory='dataset/train',x_col='Image',y_col='target',\n",
        "                                           target_size=(400,250), class_mode=\"categorical\",batch_size=12,shuffle=True)"
      ],
      "execution_count": null,
      "outputs": [
        {
          "output_type": "stream",
          "text": [
            "Found 110 validated image filenames belonging to 8 classes.\n"
          ],
          "name": "stdout"
        }
      ]
    },
    {
      "cell_type": "markdown",
      "metadata": {
        "id": "AU8pH313OSx2",
        "colab_type": "text"
      },
      "source": [
        "## ConvNet"
      ]
    },
    {
      "cell_type": "code",
      "metadata": {
        "id": "3w5XNAR9ll_t",
        "colab_type": "code",
        "colab": {}
      },
      "source": [
        "from tensorflow.keras.applications.inception_v3 import InceptionV3\n",
        "\n",
        "local_weights_file = '/tmp/inception_v3_weights_tf_dim_ordering_tf_kernels_notop.h5'\n",
        "\n",
        "pre_trained_model = InceptionV3(input_shape = (400, 250, 3), \n",
        "                                include_top = False, \n",
        "                                weights = None)\n",
        "\n",
        "pre_trained_model.load_weights(local_weights_file)\n",
        "\n",
        "for layer in pre_trained_model.layers:\n",
        "  layer.trainable = False"
      ],
      "execution_count": null,
      "outputs": []
    },
    {
      "cell_type": "code",
      "metadata": {
        "id": "xRBCr3LAmPA2",
        "colab_type": "code",
        "colab": {
          "base_uri": "https://localhost:8080/",
          "height": 34
        },
        "outputId": "e556b4df-d3c9-4835-dc14-067338117364"
      },
      "source": [
        "last_layer = pre_trained_model.get_layer('mixed7')\n",
        "print('last layer output shape: ', last_layer.output_shape)\n",
        "last_output = last_layer.output"
      ],
      "execution_count": null,
      "outputs": [
        {
          "output_type": "stream",
          "text": [
            "last layer output shape:  (None, 23, 13, 768)\n"
          ],
          "name": "stdout"
        }
      ]
    },
    {
      "cell_type": "code",
      "metadata": {
        "id": "bpTrX4len39l",
        "colab_type": "code",
        "colab": {}
      },
      "source": [
        "x = Flatten()(last_output)\n",
        "x = Dense(512, activation='relu')(x)\n",
        "x = Dropout(0.2)(x)                  \n",
        "x = Dense(8, activation='softmax')(x)           \n",
        "\n",
        "model = Model( pre_trained_model.input, x) "
      ],
      "execution_count": null,
      "outputs": []
    },
    {
      "cell_type": "code",
      "metadata": {
        "id": "UYoTvaX9OWii",
        "colab_type": "code",
        "colab": {
          "base_uri": "https://localhost:8080/",
          "height": 1000
        },
        "outputId": "bc0c94da-0394-4612-c1d8-1122dc837b27"
      },
      "source": [
        "model.compile(loss='categorical_crossentropy',optimizer=tf.keras.optimizers.Adam(),metrics=['accuracy'])\n",
        "model.summary()"
      ],
      "execution_count": null,
      "outputs": [
        {
          "output_type": "stream",
          "text": [
            "Model: \"model_3\"\n",
            "__________________________________________________________________________________________________\n",
            "Layer (type)                    Output Shape         Param #     Connected to                     \n",
            "==================================================================================================\n",
            "input_9 (InputLayer)            [(None, 400, 250, 3) 0                                            \n",
            "__________________________________________________________________________________________________\n",
            "conv2d_608 (Conv2D)             (None, 199, 124, 32) 864         input_9[0][0]                    \n",
            "__________________________________________________________________________________________________\n",
            "batch_normalization_564 (BatchN (None, 199, 124, 32) 96          conv2d_608[0][0]                 \n",
            "__________________________________________________________________________________________________\n",
            "activation_564 (Activation)     (None, 199, 124, 32) 0           batch_normalization_564[0][0]    \n",
            "__________________________________________________________________________________________________\n",
            "conv2d_609 (Conv2D)             (None, 197, 122, 32) 9216        activation_564[0][0]             \n",
            "__________________________________________________________________________________________________\n",
            "batch_normalization_565 (BatchN (None, 197, 122, 32) 96          conv2d_609[0][0]                 \n",
            "__________________________________________________________________________________________________\n",
            "activation_565 (Activation)     (None, 197, 122, 32) 0           batch_normalization_565[0][0]    \n",
            "__________________________________________________________________________________________________\n",
            "conv2d_610 (Conv2D)             (None, 197, 122, 64) 18432       activation_565[0][0]             \n",
            "__________________________________________________________________________________________________\n",
            "batch_normalization_566 (BatchN (None, 197, 122, 64) 192         conv2d_610[0][0]                 \n",
            "__________________________________________________________________________________________________\n",
            "activation_566 (Activation)     (None, 197, 122, 64) 0           batch_normalization_566[0][0]    \n",
            "__________________________________________________________________________________________________\n",
            "max_pooling2d_68 (MaxPooling2D) (None, 98, 60, 64)   0           activation_566[0][0]             \n",
            "__________________________________________________________________________________________________\n",
            "conv2d_611 (Conv2D)             (None, 98, 60, 80)   5120        max_pooling2d_68[0][0]           \n",
            "__________________________________________________________________________________________________\n",
            "batch_normalization_567 (BatchN (None, 98, 60, 80)   240         conv2d_611[0][0]                 \n",
            "__________________________________________________________________________________________________\n",
            "activation_567 (Activation)     (None, 98, 60, 80)   0           batch_normalization_567[0][0]    \n",
            "__________________________________________________________________________________________________\n",
            "conv2d_612 (Conv2D)             (None, 96, 58, 192)  138240      activation_567[0][0]             \n",
            "__________________________________________________________________________________________________\n",
            "batch_normalization_568 (BatchN (None, 96, 58, 192)  576         conv2d_612[0][0]                 \n",
            "__________________________________________________________________________________________________\n",
            "activation_568 (Activation)     (None, 96, 58, 192)  0           batch_normalization_568[0][0]    \n",
            "__________________________________________________________________________________________________\n",
            "max_pooling2d_69 (MaxPooling2D) (None, 47, 28, 192)  0           activation_568[0][0]             \n",
            "__________________________________________________________________________________________________\n",
            "conv2d_616 (Conv2D)             (None, 47, 28, 64)   12288       max_pooling2d_69[0][0]           \n",
            "__________________________________________________________________________________________________\n",
            "batch_normalization_572 (BatchN (None, 47, 28, 64)   192         conv2d_616[0][0]                 \n",
            "__________________________________________________________________________________________________\n",
            "activation_572 (Activation)     (None, 47, 28, 64)   0           batch_normalization_572[0][0]    \n",
            "__________________________________________________________________________________________________\n",
            "conv2d_614 (Conv2D)             (None, 47, 28, 48)   9216        max_pooling2d_69[0][0]           \n",
            "__________________________________________________________________________________________________\n",
            "conv2d_617 (Conv2D)             (None, 47, 28, 96)   55296       activation_572[0][0]             \n",
            "__________________________________________________________________________________________________\n",
            "batch_normalization_570 (BatchN (None, 47, 28, 48)   144         conv2d_614[0][0]                 \n",
            "__________________________________________________________________________________________________\n",
            "batch_normalization_573 (BatchN (None, 47, 28, 96)   288         conv2d_617[0][0]                 \n",
            "__________________________________________________________________________________________________\n",
            "activation_570 (Activation)     (None, 47, 28, 48)   0           batch_normalization_570[0][0]    \n",
            "__________________________________________________________________________________________________\n",
            "activation_573 (Activation)     (None, 47, 28, 96)   0           batch_normalization_573[0][0]    \n",
            "__________________________________________________________________________________________________\n",
            "average_pooling2d_54 (AveragePo (None, 47, 28, 192)  0           max_pooling2d_69[0][0]           \n",
            "__________________________________________________________________________________________________\n",
            "conv2d_613 (Conv2D)             (None, 47, 28, 64)   12288       max_pooling2d_69[0][0]           \n",
            "__________________________________________________________________________________________________\n",
            "conv2d_615 (Conv2D)             (None, 47, 28, 64)   76800       activation_570[0][0]             \n",
            "__________________________________________________________________________________________________\n",
            "conv2d_618 (Conv2D)             (None, 47, 28, 96)   82944       activation_573[0][0]             \n",
            "__________________________________________________________________________________________________\n",
            "conv2d_619 (Conv2D)             (None, 47, 28, 32)   6144        average_pooling2d_54[0][0]       \n",
            "__________________________________________________________________________________________________\n",
            "batch_normalization_569 (BatchN (None, 47, 28, 64)   192         conv2d_613[0][0]                 \n",
            "__________________________________________________________________________________________________\n",
            "batch_normalization_571 (BatchN (None, 47, 28, 64)   192         conv2d_615[0][0]                 \n",
            "__________________________________________________________________________________________________\n",
            "batch_normalization_574 (BatchN (None, 47, 28, 96)   288         conv2d_618[0][0]                 \n",
            "__________________________________________________________________________________________________\n",
            "batch_normalization_575 (BatchN (None, 47, 28, 32)   96          conv2d_619[0][0]                 \n",
            "__________________________________________________________________________________________________\n",
            "activation_569 (Activation)     (None, 47, 28, 64)   0           batch_normalization_569[0][0]    \n",
            "__________________________________________________________________________________________________\n",
            "activation_571 (Activation)     (None, 47, 28, 64)   0           batch_normalization_571[0][0]    \n",
            "__________________________________________________________________________________________________\n",
            "activation_574 (Activation)     (None, 47, 28, 96)   0           batch_normalization_574[0][0]    \n",
            "__________________________________________________________________________________________________\n",
            "activation_575 (Activation)     (None, 47, 28, 32)   0           batch_normalization_575[0][0]    \n",
            "__________________________________________________________________________________________________\n",
            "mixed0 (Concatenate)            (None, 47, 28, 256)  0           activation_569[0][0]             \n",
            "                                                                 activation_571[0][0]             \n",
            "                                                                 activation_574[0][0]             \n",
            "                                                                 activation_575[0][0]             \n",
            "__________________________________________________________________________________________________\n",
            "conv2d_623 (Conv2D)             (None, 47, 28, 64)   16384       mixed0[0][0]                     \n",
            "__________________________________________________________________________________________________\n",
            "batch_normalization_579 (BatchN (None, 47, 28, 64)   192         conv2d_623[0][0]                 \n",
            "__________________________________________________________________________________________________\n",
            "activation_579 (Activation)     (None, 47, 28, 64)   0           batch_normalization_579[0][0]    \n",
            "__________________________________________________________________________________________________\n",
            "conv2d_621 (Conv2D)             (None, 47, 28, 48)   12288       mixed0[0][0]                     \n",
            "__________________________________________________________________________________________________\n",
            "conv2d_624 (Conv2D)             (None, 47, 28, 96)   55296       activation_579[0][0]             \n",
            "__________________________________________________________________________________________________\n",
            "batch_normalization_577 (BatchN (None, 47, 28, 48)   144         conv2d_621[0][0]                 \n",
            "__________________________________________________________________________________________________\n",
            "batch_normalization_580 (BatchN (None, 47, 28, 96)   288         conv2d_624[0][0]                 \n",
            "__________________________________________________________________________________________________\n",
            "activation_577 (Activation)     (None, 47, 28, 48)   0           batch_normalization_577[0][0]    \n",
            "__________________________________________________________________________________________________\n",
            "activation_580 (Activation)     (None, 47, 28, 96)   0           batch_normalization_580[0][0]    \n",
            "__________________________________________________________________________________________________\n",
            "average_pooling2d_55 (AveragePo (None, 47, 28, 256)  0           mixed0[0][0]                     \n",
            "__________________________________________________________________________________________________\n",
            "conv2d_620 (Conv2D)             (None, 47, 28, 64)   16384       mixed0[0][0]                     \n",
            "__________________________________________________________________________________________________\n",
            "conv2d_622 (Conv2D)             (None, 47, 28, 64)   76800       activation_577[0][0]             \n",
            "__________________________________________________________________________________________________\n",
            "conv2d_625 (Conv2D)             (None, 47, 28, 96)   82944       activation_580[0][0]             \n",
            "__________________________________________________________________________________________________\n",
            "conv2d_626 (Conv2D)             (None, 47, 28, 64)   16384       average_pooling2d_55[0][0]       \n",
            "__________________________________________________________________________________________________\n",
            "batch_normalization_576 (BatchN (None, 47, 28, 64)   192         conv2d_620[0][0]                 \n",
            "__________________________________________________________________________________________________\n",
            "batch_normalization_578 (BatchN (None, 47, 28, 64)   192         conv2d_622[0][0]                 \n",
            "__________________________________________________________________________________________________\n",
            "batch_normalization_581 (BatchN (None, 47, 28, 96)   288         conv2d_625[0][0]                 \n",
            "__________________________________________________________________________________________________\n",
            "batch_normalization_582 (BatchN (None, 47, 28, 64)   192         conv2d_626[0][0]                 \n",
            "__________________________________________________________________________________________________\n",
            "activation_576 (Activation)     (None, 47, 28, 64)   0           batch_normalization_576[0][0]    \n",
            "__________________________________________________________________________________________________\n",
            "activation_578 (Activation)     (None, 47, 28, 64)   0           batch_normalization_578[0][0]    \n",
            "__________________________________________________________________________________________________\n",
            "activation_581 (Activation)     (None, 47, 28, 96)   0           batch_normalization_581[0][0]    \n",
            "__________________________________________________________________________________________________\n",
            "activation_582 (Activation)     (None, 47, 28, 64)   0           batch_normalization_582[0][0]    \n",
            "__________________________________________________________________________________________________\n",
            "mixed1 (Concatenate)            (None, 47, 28, 288)  0           activation_576[0][0]             \n",
            "                                                                 activation_578[0][0]             \n",
            "                                                                 activation_581[0][0]             \n",
            "                                                                 activation_582[0][0]             \n",
            "__________________________________________________________________________________________________\n",
            "conv2d_630 (Conv2D)             (None, 47, 28, 64)   18432       mixed1[0][0]                     \n",
            "__________________________________________________________________________________________________\n",
            "batch_normalization_586 (BatchN (None, 47, 28, 64)   192         conv2d_630[0][0]                 \n",
            "__________________________________________________________________________________________________\n",
            "activation_586 (Activation)     (None, 47, 28, 64)   0           batch_normalization_586[0][0]    \n",
            "__________________________________________________________________________________________________\n",
            "conv2d_628 (Conv2D)             (None, 47, 28, 48)   13824       mixed1[0][0]                     \n",
            "__________________________________________________________________________________________________\n",
            "conv2d_631 (Conv2D)             (None, 47, 28, 96)   55296       activation_586[0][0]             \n",
            "__________________________________________________________________________________________________\n",
            "batch_normalization_584 (BatchN (None, 47, 28, 48)   144         conv2d_628[0][0]                 \n",
            "__________________________________________________________________________________________________\n",
            "batch_normalization_587 (BatchN (None, 47, 28, 96)   288         conv2d_631[0][0]                 \n",
            "__________________________________________________________________________________________________\n",
            "activation_584 (Activation)     (None, 47, 28, 48)   0           batch_normalization_584[0][0]    \n",
            "__________________________________________________________________________________________________\n",
            "activation_587 (Activation)     (None, 47, 28, 96)   0           batch_normalization_587[0][0]    \n",
            "__________________________________________________________________________________________________\n",
            "average_pooling2d_56 (AveragePo (None, 47, 28, 288)  0           mixed1[0][0]                     \n",
            "__________________________________________________________________________________________________\n",
            "conv2d_627 (Conv2D)             (None, 47, 28, 64)   18432       mixed1[0][0]                     \n",
            "__________________________________________________________________________________________________\n",
            "conv2d_629 (Conv2D)             (None, 47, 28, 64)   76800       activation_584[0][0]             \n",
            "__________________________________________________________________________________________________\n",
            "conv2d_632 (Conv2D)             (None, 47, 28, 96)   82944       activation_587[0][0]             \n",
            "__________________________________________________________________________________________________\n",
            "conv2d_633 (Conv2D)             (None, 47, 28, 64)   18432       average_pooling2d_56[0][0]       \n",
            "__________________________________________________________________________________________________\n",
            "batch_normalization_583 (BatchN (None, 47, 28, 64)   192         conv2d_627[0][0]                 \n",
            "__________________________________________________________________________________________________\n",
            "batch_normalization_585 (BatchN (None, 47, 28, 64)   192         conv2d_629[0][0]                 \n",
            "__________________________________________________________________________________________________\n",
            "batch_normalization_588 (BatchN (None, 47, 28, 96)   288         conv2d_632[0][0]                 \n",
            "__________________________________________________________________________________________________\n",
            "batch_normalization_589 (BatchN (None, 47, 28, 64)   192         conv2d_633[0][0]                 \n",
            "__________________________________________________________________________________________________\n",
            "activation_583 (Activation)     (None, 47, 28, 64)   0           batch_normalization_583[0][0]    \n",
            "__________________________________________________________________________________________________\n",
            "activation_585 (Activation)     (None, 47, 28, 64)   0           batch_normalization_585[0][0]    \n",
            "__________________________________________________________________________________________________\n",
            "activation_588 (Activation)     (None, 47, 28, 96)   0           batch_normalization_588[0][0]    \n",
            "__________________________________________________________________________________________________\n",
            "activation_589 (Activation)     (None, 47, 28, 64)   0           batch_normalization_589[0][0]    \n",
            "__________________________________________________________________________________________________\n",
            "mixed2 (Concatenate)            (None, 47, 28, 288)  0           activation_583[0][0]             \n",
            "                                                                 activation_585[0][0]             \n",
            "                                                                 activation_588[0][0]             \n",
            "                                                                 activation_589[0][0]             \n",
            "__________________________________________________________________________________________________\n",
            "conv2d_635 (Conv2D)             (None, 47, 28, 64)   18432       mixed2[0][0]                     \n",
            "__________________________________________________________________________________________________\n",
            "batch_normalization_591 (BatchN (None, 47, 28, 64)   192         conv2d_635[0][0]                 \n",
            "__________________________________________________________________________________________________\n",
            "activation_591 (Activation)     (None, 47, 28, 64)   0           batch_normalization_591[0][0]    \n",
            "__________________________________________________________________________________________________\n",
            "conv2d_636 (Conv2D)             (None, 47, 28, 96)   55296       activation_591[0][0]             \n",
            "__________________________________________________________________________________________________\n",
            "batch_normalization_592 (BatchN (None, 47, 28, 96)   288         conv2d_636[0][0]                 \n",
            "__________________________________________________________________________________________________\n",
            "activation_592 (Activation)     (None, 47, 28, 96)   0           batch_normalization_592[0][0]    \n",
            "__________________________________________________________________________________________________\n",
            "conv2d_634 (Conv2D)             (None, 23, 13, 384)  995328      mixed2[0][0]                     \n",
            "__________________________________________________________________________________________________\n",
            "conv2d_637 (Conv2D)             (None, 23, 13, 96)   82944       activation_592[0][0]             \n",
            "__________________________________________________________________________________________________\n",
            "batch_normalization_590 (BatchN (None, 23, 13, 384)  1152        conv2d_634[0][0]                 \n",
            "__________________________________________________________________________________________________\n",
            "batch_normalization_593 (BatchN (None, 23, 13, 96)   288         conv2d_637[0][0]                 \n",
            "__________________________________________________________________________________________________\n",
            "activation_590 (Activation)     (None, 23, 13, 384)  0           batch_normalization_590[0][0]    \n",
            "__________________________________________________________________________________________________\n",
            "activation_593 (Activation)     (None, 23, 13, 96)   0           batch_normalization_593[0][0]    \n",
            "__________________________________________________________________________________________________\n",
            "max_pooling2d_70 (MaxPooling2D) (None, 23, 13, 288)  0           mixed2[0][0]                     \n",
            "__________________________________________________________________________________________________\n",
            "mixed3 (Concatenate)            (None, 23, 13, 768)  0           activation_590[0][0]             \n",
            "                                                                 activation_593[0][0]             \n",
            "                                                                 max_pooling2d_70[0][0]           \n",
            "__________________________________________________________________________________________________\n",
            "conv2d_642 (Conv2D)             (None, 23, 13, 128)  98304       mixed3[0][0]                     \n",
            "__________________________________________________________________________________________________\n",
            "batch_normalization_598 (BatchN (None, 23, 13, 128)  384         conv2d_642[0][0]                 \n",
            "__________________________________________________________________________________________________\n",
            "activation_598 (Activation)     (None, 23, 13, 128)  0           batch_normalization_598[0][0]    \n",
            "__________________________________________________________________________________________________\n",
            "conv2d_643 (Conv2D)             (None, 23, 13, 128)  114688      activation_598[0][0]             \n",
            "__________________________________________________________________________________________________\n",
            "batch_normalization_599 (BatchN (None, 23, 13, 128)  384         conv2d_643[0][0]                 \n",
            "__________________________________________________________________________________________________\n",
            "activation_599 (Activation)     (None, 23, 13, 128)  0           batch_normalization_599[0][0]    \n",
            "__________________________________________________________________________________________________\n",
            "conv2d_639 (Conv2D)             (None, 23, 13, 128)  98304       mixed3[0][0]                     \n",
            "__________________________________________________________________________________________________\n",
            "conv2d_644 (Conv2D)             (None, 23, 13, 128)  114688      activation_599[0][0]             \n",
            "__________________________________________________________________________________________________\n",
            "batch_normalization_595 (BatchN (None, 23, 13, 128)  384         conv2d_639[0][0]                 \n",
            "__________________________________________________________________________________________________\n",
            "batch_normalization_600 (BatchN (None, 23, 13, 128)  384         conv2d_644[0][0]                 \n",
            "__________________________________________________________________________________________________\n",
            "activation_595 (Activation)     (None, 23, 13, 128)  0           batch_normalization_595[0][0]    \n",
            "__________________________________________________________________________________________________\n",
            "activation_600 (Activation)     (None, 23, 13, 128)  0           batch_normalization_600[0][0]    \n",
            "__________________________________________________________________________________________________\n",
            "conv2d_640 (Conv2D)             (None, 23, 13, 128)  114688      activation_595[0][0]             \n",
            "__________________________________________________________________________________________________\n",
            "conv2d_645 (Conv2D)             (None, 23, 13, 128)  114688      activation_600[0][0]             \n",
            "__________________________________________________________________________________________________\n",
            "batch_normalization_596 (BatchN (None, 23, 13, 128)  384         conv2d_640[0][0]                 \n",
            "__________________________________________________________________________________________________\n",
            "batch_normalization_601 (BatchN (None, 23, 13, 128)  384         conv2d_645[0][0]                 \n",
            "__________________________________________________________________________________________________\n",
            "activation_596 (Activation)     (None, 23, 13, 128)  0           batch_normalization_596[0][0]    \n",
            "__________________________________________________________________________________________________\n",
            "activation_601 (Activation)     (None, 23, 13, 128)  0           batch_normalization_601[0][0]    \n",
            "__________________________________________________________________________________________________\n",
            "average_pooling2d_57 (AveragePo (None, 23, 13, 768)  0           mixed3[0][0]                     \n",
            "__________________________________________________________________________________________________\n",
            "conv2d_638 (Conv2D)             (None, 23, 13, 192)  147456      mixed3[0][0]                     \n",
            "__________________________________________________________________________________________________\n",
            "conv2d_641 (Conv2D)             (None, 23, 13, 192)  172032      activation_596[0][0]             \n",
            "__________________________________________________________________________________________________\n",
            "conv2d_646 (Conv2D)             (None, 23, 13, 192)  172032      activation_601[0][0]             \n",
            "__________________________________________________________________________________________________\n",
            "conv2d_647 (Conv2D)             (None, 23, 13, 192)  147456      average_pooling2d_57[0][0]       \n",
            "__________________________________________________________________________________________________\n",
            "batch_normalization_594 (BatchN (None, 23, 13, 192)  576         conv2d_638[0][0]                 \n",
            "__________________________________________________________________________________________________\n",
            "batch_normalization_597 (BatchN (None, 23, 13, 192)  576         conv2d_641[0][0]                 \n",
            "__________________________________________________________________________________________________\n",
            "batch_normalization_602 (BatchN (None, 23, 13, 192)  576         conv2d_646[0][0]                 \n",
            "__________________________________________________________________________________________________\n",
            "batch_normalization_603 (BatchN (None, 23, 13, 192)  576         conv2d_647[0][0]                 \n",
            "__________________________________________________________________________________________________\n",
            "activation_594 (Activation)     (None, 23, 13, 192)  0           batch_normalization_594[0][0]    \n",
            "__________________________________________________________________________________________________\n",
            "activation_597 (Activation)     (None, 23, 13, 192)  0           batch_normalization_597[0][0]    \n",
            "__________________________________________________________________________________________________\n",
            "activation_602 (Activation)     (None, 23, 13, 192)  0           batch_normalization_602[0][0]    \n",
            "__________________________________________________________________________________________________\n",
            "activation_603 (Activation)     (None, 23, 13, 192)  0           batch_normalization_603[0][0]    \n",
            "__________________________________________________________________________________________________\n",
            "mixed4 (Concatenate)            (None, 23, 13, 768)  0           activation_594[0][0]             \n",
            "                                                                 activation_597[0][0]             \n",
            "                                                                 activation_602[0][0]             \n",
            "                                                                 activation_603[0][0]             \n",
            "__________________________________________________________________________________________________\n",
            "conv2d_652 (Conv2D)             (None, 23, 13, 160)  122880      mixed4[0][0]                     \n",
            "__________________________________________________________________________________________________\n",
            "batch_normalization_608 (BatchN (None, 23, 13, 160)  480         conv2d_652[0][0]                 \n",
            "__________________________________________________________________________________________________\n",
            "activation_608 (Activation)     (None, 23, 13, 160)  0           batch_normalization_608[0][0]    \n",
            "__________________________________________________________________________________________________\n",
            "conv2d_653 (Conv2D)             (None, 23, 13, 160)  179200      activation_608[0][0]             \n",
            "__________________________________________________________________________________________________\n",
            "batch_normalization_609 (BatchN (None, 23, 13, 160)  480         conv2d_653[0][0]                 \n",
            "__________________________________________________________________________________________________\n",
            "activation_609 (Activation)     (None, 23, 13, 160)  0           batch_normalization_609[0][0]    \n",
            "__________________________________________________________________________________________________\n",
            "conv2d_649 (Conv2D)             (None, 23, 13, 160)  122880      mixed4[0][0]                     \n",
            "__________________________________________________________________________________________________\n",
            "conv2d_654 (Conv2D)             (None, 23, 13, 160)  179200      activation_609[0][0]             \n",
            "__________________________________________________________________________________________________\n",
            "batch_normalization_605 (BatchN (None, 23, 13, 160)  480         conv2d_649[0][0]                 \n",
            "__________________________________________________________________________________________________\n",
            "batch_normalization_610 (BatchN (None, 23, 13, 160)  480         conv2d_654[0][0]                 \n",
            "__________________________________________________________________________________________________\n",
            "activation_605 (Activation)     (None, 23, 13, 160)  0           batch_normalization_605[0][0]    \n",
            "__________________________________________________________________________________________________\n",
            "activation_610 (Activation)     (None, 23, 13, 160)  0           batch_normalization_610[0][0]    \n",
            "__________________________________________________________________________________________________\n",
            "conv2d_650 (Conv2D)             (None, 23, 13, 160)  179200      activation_605[0][0]             \n",
            "__________________________________________________________________________________________________\n",
            "conv2d_655 (Conv2D)             (None, 23, 13, 160)  179200      activation_610[0][0]             \n",
            "__________________________________________________________________________________________________\n",
            "batch_normalization_606 (BatchN (None, 23, 13, 160)  480         conv2d_650[0][0]                 \n",
            "__________________________________________________________________________________________________\n",
            "batch_normalization_611 (BatchN (None, 23, 13, 160)  480         conv2d_655[0][0]                 \n",
            "__________________________________________________________________________________________________\n",
            "activation_606 (Activation)     (None, 23, 13, 160)  0           batch_normalization_606[0][0]    \n",
            "__________________________________________________________________________________________________\n",
            "activation_611 (Activation)     (None, 23, 13, 160)  0           batch_normalization_611[0][0]    \n",
            "__________________________________________________________________________________________________\n",
            "average_pooling2d_58 (AveragePo (None, 23, 13, 768)  0           mixed4[0][0]                     \n",
            "__________________________________________________________________________________________________\n",
            "conv2d_648 (Conv2D)             (None, 23, 13, 192)  147456      mixed4[0][0]                     \n",
            "__________________________________________________________________________________________________\n",
            "conv2d_651 (Conv2D)             (None, 23, 13, 192)  215040      activation_606[0][0]             \n",
            "__________________________________________________________________________________________________\n",
            "conv2d_656 (Conv2D)             (None, 23, 13, 192)  215040      activation_611[0][0]             \n",
            "__________________________________________________________________________________________________\n",
            "conv2d_657 (Conv2D)             (None, 23, 13, 192)  147456      average_pooling2d_58[0][0]       \n",
            "__________________________________________________________________________________________________\n",
            "batch_normalization_604 (BatchN (None, 23, 13, 192)  576         conv2d_648[0][0]                 \n",
            "__________________________________________________________________________________________________\n",
            "batch_normalization_607 (BatchN (None, 23, 13, 192)  576         conv2d_651[0][0]                 \n",
            "__________________________________________________________________________________________________\n",
            "batch_normalization_612 (BatchN (None, 23, 13, 192)  576         conv2d_656[0][0]                 \n",
            "__________________________________________________________________________________________________\n",
            "batch_normalization_613 (BatchN (None, 23, 13, 192)  576         conv2d_657[0][0]                 \n",
            "__________________________________________________________________________________________________\n",
            "activation_604 (Activation)     (None, 23, 13, 192)  0           batch_normalization_604[0][0]    \n",
            "__________________________________________________________________________________________________\n",
            "activation_607 (Activation)     (None, 23, 13, 192)  0           batch_normalization_607[0][0]    \n",
            "__________________________________________________________________________________________________\n",
            "activation_612 (Activation)     (None, 23, 13, 192)  0           batch_normalization_612[0][0]    \n",
            "__________________________________________________________________________________________________\n",
            "activation_613 (Activation)     (None, 23, 13, 192)  0           batch_normalization_613[0][0]    \n",
            "__________________________________________________________________________________________________\n",
            "mixed5 (Concatenate)            (None, 23, 13, 768)  0           activation_604[0][0]             \n",
            "                                                                 activation_607[0][0]             \n",
            "                                                                 activation_612[0][0]             \n",
            "                                                                 activation_613[0][0]             \n",
            "__________________________________________________________________________________________________\n",
            "conv2d_662 (Conv2D)             (None, 23, 13, 160)  122880      mixed5[0][0]                     \n",
            "__________________________________________________________________________________________________\n",
            "batch_normalization_618 (BatchN (None, 23, 13, 160)  480         conv2d_662[0][0]                 \n",
            "__________________________________________________________________________________________________\n",
            "activation_618 (Activation)     (None, 23, 13, 160)  0           batch_normalization_618[0][0]    \n",
            "__________________________________________________________________________________________________\n",
            "conv2d_663 (Conv2D)             (None, 23, 13, 160)  179200      activation_618[0][0]             \n",
            "__________________________________________________________________________________________________\n",
            "batch_normalization_619 (BatchN (None, 23, 13, 160)  480         conv2d_663[0][0]                 \n",
            "__________________________________________________________________________________________________\n",
            "activation_619 (Activation)     (None, 23, 13, 160)  0           batch_normalization_619[0][0]    \n",
            "__________________________________________________________________________________________________\n",
            "conv2d_659 (Conv2D)             (None, 23, 13, 160)  122880      mixed5[0][0]                     \n",
            "__________________________________________________________________________________________________\n",
            "conv2d_664 (Conv2D)             (None, 23, 13, 160)  179200      activation_619[0][0]             \n",
            "__________________________________________________________________________________________________\n",
            "batch_normalization_615 (BatchN (None, 23, 13, 160)  480         conv2d_659[0][0]                 \n",
            "__________________________________________________________________________________________________\n",
            "batch_normalization_620 (BatchN (None, 23, 13, 160)  480         conv2d_664[0][0]                 \n",
            "__________________________________________________________________________________________________\n",
            "activation_615 (Activation)     (None, 23, 13, 160)  0           batch_normalization_615[0][0]    \n",
            "__________________________________________________________________________________________________\n",
            "activation_620 (Activation)     (None, 23, 13, 160)  0           batch_normalization_620[0][0]    \n",
            "__________________________________________________________________________________________________\n",
            "conv2d_660 (Conv2D)             (None, 23, 13, 160)  179200      activation_615[0][0]             \n",
            "__________________________________________________________________________________________________\n",
            "conv2d_665 (Conv2D)             (None, 23, 13, 160)  179200      activation_620[0][0]             \n",
            "__________________________________________________________________________________________________\n",
            "batch_normalization_616 (BatchN (None, 23, 13, 160)  480         conv2d_660[0][0]                 \n",
            "__________________________________________________________________________________________________\n",
            "batch_normalization_621 (BatchN (None, 23, 13, 160)  480         conv2d_665[0][0]                 \n",
            "__________________________________________________________________________________________________\n",
            "activation_616 (Activation)     (None, 23, 13, 160)  0           batch_normalization_616[0][0]    \n",
            "__________________________________________________________________________________________________\n",
            "activation_621 (Activation)     (None, 23, 13, 160)  0           batch_normalization_621[0][0]    \n",
            "__________________________________________________________________________________________________\n",
            "average_pooling2d_59 (AveragePo (None, 23, 13, 768)  0           mixed5[0][0]                     \n",
            "__________________________________________________________________________________________________\n",
            "conv2d_658 (Conv2D)             (None, 23, 13, 192)  147456      mixed5[0][0]                     \n",
            "__________________________________________________________________________________________________\n",
            "conv2d_661 (Conv2D)             (None, 23, 13, 192)  215040      activation_616[0][0]             \n",
            "__________________________________________________________________________________________________\n",
            "conv2d_666 (Conv2D)             (None, 23, 13, 192)  215040      activation_621[0][0]             \n",
            "__________________________________________________________________________________________________\n",
            "conv2d_667 (Conv2D)             (None, 23, 13, 192)  147456      average_pooling2d_59[0][0]       \n",
            "__________________________________________________________________________________________________\n",
            "batch_normalization_614 (BatchN (None, 23, 13, 192)  576         conv2d_658[0][0]                 \n",
            "__________________________________________________________________________________________________\n",
            "batch_normalization_617 (BatchN (None, 23, 13, 192)  576         conv2d_661[0][0]                 \n",
            "__________________________________________________________________________________________________\n",
            "batch_normalization_622 (BatchN (None, 23, 13, 192)  576         conv2d_666[0][0]                 \n",
            "__________________________________________________________________________________________________\n",
            "batch_normalization_623 (BatchN (None, 23, 13, 192)  576         conv2d_667[0][0]                 \n",
            "__________________________________________________________________________________________________\n",
            "activation_614 (Activation)     (None, 23, 13, 192)  0           batch_normalization_614[0][0]    \n",
            "__________________________________________________________________________________________________\n",
            "activation_617 (Activation)     (None, 23, 13, 192)  0           batch_normalization_617[0][0]    \n",
            "__________________________________________________________________________________________________\n",
            "activation_622 (Activation)     (None, 23, 13, 192)  0           batch_normalization_622[0][0]    \n",
            "__________________________________________________________________________________________________\n",
            "activation_623 (Activation)     (None, 23, 13, 192)  0           batch_normalization_623[0][0]    \n",
            "__________________________________________________________________________________________________\n",
            "mixed6 (Concatenate)            (None, 23, 13, 768)  0           activation_614[0][0]             \n",
            "                                                                 activation_617[0][0]             \n",
            "                                                                 activation_622[0][0]             \n",
            "                                                                 activation_623[0][0]             \n",
            "__________________________________________________________________________________________________\n",
            "conv2d_672 (Conv2D)             (None, 23, 13, 192)  147456      mixed6[0][0]                     \n",
            "__________________________________________________________________________________________________\n",
            "batch_normalization_628 (BatchN (None, 23, 13, 192)  576         conv2d_672[0][0]                 \n",
            "__________________________________________________________________________________________________\n",
            "activation_628 (Activation)     (None, 23, 13, 192)  0           batch_normalization_628[0][0]    \n",
            "__________________________________________________________________________________________________\n",
            "conv2d_673 (Conv2D)             (None, 23, 13, 192)  258048      activation_628[0][0]             \n",
            "__________________________________________________________________________________________________\n",
            "batch_normalization_629 (BatchN (None, 23, 13, 192)  576         conv2d_673[0][0]                 \n",
            "__________________________________________________________________________________________________\n",
            "activation_629 (Activation)     (None, 23, 13, 192)  0           batch_normalization_629[0][0]    \n",
            "__________________________________________________________________________________________________\n",
            "conv2d_669 (Conv2D)             (None, 23, 13, 192)  147456      mixed6[0][0]                     \n",
            "__________________________________________________________________________________________________\n",
            "conv2d_674 (Conv2D)             (None, 23, 13, 192)  258048      activation_629[0][0]             \n",
            "__________________________________________________________________________________________________\n",
            "batch_normalization_625 (BatchN (None, 23, 13, 192)  576         conv2d_669[0][0]                 \n",
            "__________________________________________________________________________________________________\n",
            "batch_normalization_630 (BatchN (None, 23, 13, 192)  576         conv2d_674[0][0]                 \n",
            "__________________________________________________________________________________________________\n",
            "activation_625 (Activation)     (None, 23, 13, 192)  0           batch_normalization_625[0][0]    \n",
            "__________________________________________________________________________________________________\n",
            "activation_630 (Activation)     (None, 23, 13, 192)  0           batch_normalization_630[0][0]    \n",
            "__________________________________________________________________________________________________\n",
            "conv2d_670 (Conv2D)             (None, 23, 13, 192)  258048      activation_625[0][0]             \n",
            "__________________________________________________________________________________________________\n",
            "conv2d_675 (Conv2D)             (None, 23, 13, 192)  258048      activation_630[0][0]             \n",
            "__________________________________________________________________________________________________\n",
            "batch_normalization_626 (BatchN (None, 23, 13, 192)  576         conv2d_670[0][0]                 \n",
            "__________________________________________________________________________________________________\n",
            "batch_normalization_631 (BatchN (None, 23, 13, 192)  576         conv2d_675[0][0]                 \n",
            "__________________________________________________________________________________________________\n",
            "activation_626 (Activation)     (None, 23, 13, 192)  0           batch_normalization_626[0][0]    \n",
            "__________________________________________________________________________________________________\n",
            "activation_631 (Activation)     (None, 23, 13, 192)  0           batch_normalization_631[0][0]    \n",
            "__________________________________________________________________________________________________\n",
            "average_pooling2d_60 (AveragePo (None, 23, 13, 768)  0           mixed6[0][0]                     \n",
            "__________________________________________________________________________________________________\n",
            "conv2d_668 (Conv2D)             (None, 23, 13, 192)  147456      mixed6[0][0]                     \n",
            "__________________________________________________________________________________________________\n",
            "conv2d_671 (Conv2D)             (None, 23, 13, 192)  258048      activation_626[0][0]             \n",
            "__________________________________________________________________________________________________\n",
            "conv2d_676 (Conv2D)             (None, 23, 13, 192)  258048      activation_631[0][0]             \n",
            "__________________________________________________________________________________________________\n",
            "conv2d_677 (Conv2D)             (None, 23, 13, 192)  147456      average_pooling2d_60[0][0]       \n",
            "__________________________________________________________________________________________________\n",
            "batch_normalization_624 (BatchN (None, 23, 13, 192)  576         conv2d_668[0][0]                 \n",
            "__________________________________________________________________________________________________\n",
            "batch_normalization_627 (BatchN (None, 23, 13, 192)  576         conv2d_671[0][0]                 \n",
            "__________________________________________________________________________________________________\n",
            "batch_normalization_632 (BatchN (None, 23, 13, 192)  576         conv2d_676[0][0]                 \n",
            "__________________________________________________________________________________________________\n",
            "batch_normalization_633 (BatchN (None, 23, 13, 192)  576         conv2d_677[0][0]                 \n",
            "__________________________________________________________________________________________________\n",
            "activation_624 (Activation)     (None, 23, 13, 192)  0           batch_normalization_624[0][0]    \n",
            "__________________________________________________________________________________________________\n",
            "activation_627 (Activation)     (None, 23, 13, 192)  0           batch_normalization_627[0][0]    \n",
            "__________________________________________________________________________________________________\n",
            "activation_632 (Activation)     (None, 23, 13, 192)  0           batch_normalization_632[0][0]    \n",
            "__________________________________________________________________________________________________\n",
            "activation_633 (Activation)     (None, 23, 13, 192)  0           batch_normalization_633[0][0]    \n",
            "__________________________________________________________________________________________________\n",
            "mixed7 (Concatenate)            (None, 23, 13, 768)  0           activation_624[0][0]             \n",
            "                                                                 activation_627[0][0]             \n",
            "                                                                 activation_632[0][0]             \n",
            "                                                                 activation_633[0][0]             \n",
            "__________________________________________________________________________________________________\n",
            "flatten_17 (Flatten)            (None, 229632)       0           mixed7[0][0]                     \n",
            "__________________________________________________________________________________________________\n",
            "dense_43 (Dense)                (None, 512)          117572096   flatten_17[0][0]                 \n",
            "__________________________________________________________________________________________________\n",
            "dropout_26 (Dropout)            (None, 512)          0           dense_43[0][0]                   \n",
            "__________________________________________________________________________________________________\n",
            "dense_44 (Dense)                (None, 8)            4104        dropout_26[0][0]                 \n",
            "==================================================================================================\n",
            "Total params: 126,551,464\n",
            "Trainable params: 117,576,200\n",
            "Non-trainable params: 8,975,264\n",
            "__________________________________________________________________________________________________\n"
          ],
          "name": "stdout"
        }
      ]
    },
    {
      "cell_type": "code",
      "metadata": {
        "id": "i99dHIrrPrm5",
        "colab_type": "code",
        "colab": {
          "base_uri": "https://localhost:8080/",
          "height": 1000
        },
        "outputId": "4bb4ae86-0e5f-4ad2-e33b-1c9c1e13b1fe"
      },
      "source": [
        "history = model.fit(\n",
        "      train_ag,\n",
        "      steps_per_epoch= 254 // 12,  \n",
        "      epochs=100,\n",
        "      verbose=1,\n",
        "      validation_data = validation_ag,\n",
        "      validation_steps= 110 // 12)"
      ],
      "execution_count": null,
      "outputs": [
        {
          "output_type": "stream",
          "text": [
            "Epoch 1/100\n",
            "21/21 [==============================] - 8s 401ms/step - loss: 22.2950 - accuracy: 0.1777 - val_loss: 8.4413 - val_accuracy: 0.2407\n",
            "Epoch 2/100\n",
            "21/21 [==============================] - 8s 359ms/step - loss: 5.7180 - accuracy: 0.2438 - val_loss: 1.9375 - val_accuracy: 0.3611\n",
            "Epoch 3/100\n",
            "21/21 [==============================] - 7s 356ms/step - loss: 2.0350 - accuracy: 0.2851 - val_loss: 1.8232 - val_accuracy: 0.3056\n",
            "Epoch 4/100\n",
            "21/21 [==============================] - 8s 384ms/step - loss: 1.9148 - accuracy: 0.3347 - val_loss: 1.7288 - val_accuracy: 0.4259\n",
            "Epoch 5/100\n",
            "21/21 [==============================] - 8s 363ms/step - loss: 1.7164 - accuracy: 0.3967 - val_loss: 1.5871 - val_accuracy: 0.4074\n",
            "Epoch 6/100\n",
            "21/21 [==============================] - 7s 351ms/step - loss: 1.6638 - accuracy: 0.3719 - val_loss: 1.8238 - val_accuracy: 0.3981\n",
            "Epoch 7/100\n",
            "21/21 [==============================] - 8s 369ms/step - loss: 1.6495 - accuracy: 0.3730 - val_loss: 1.4905 - val_accuracy: 0.5278\n",
            "Epoch 8/100\n",
            "21/21 [==============================] - 8s 360ms/step - loss: 1.5309 - accuracy: 0.4545 - val_loss: 1.3217 - val_accuracy: 0.5278\n",
            "Epoch 9/100\n",
            "21/21 [==============================] - 8s 358ms/step - loss: 1.5102 - accuracy: 0.4380 - val_loss: 1.3301 - val_accuracy: 0.5370\n",
            "Epoch 10/100\n",
            "21/21 [==============================] - 8s 362ms/step - loss: 1.3405 - accuracy: 0.4835 - val_loss: 1.1430 - val_accuracy: 0.5370\n",
            "Epoch 11/100\n",
            "21/21 [==============================] - 7s 347ms/step - loss: 1.2311 - accuracy: 0.5165 - val_loss: 1.1157 - val_accuracy: 0.5648\n",
            "Epoch 12/100\n",
            "21/21 [==============================] - 7s 356ms/step - loss: 1.2822 - accuracy: 0.5620 - val_loss: 1.2815 - val_accuracy: 0.5556\n",
            "Epoch 13/100\n",
            "21/21 [==============================] - 8s 361ms/step - loss: 1.2195 - accuracy: 0.5620 - val_loss: 1.0402 - val_accuracy: 0.5926\n",
            "Epoch 14/100\n",
            "21/21 [==============================] - 8s 361ms/step - loss: 1.2351 - accuracy: 0.5794 - val_loss: 1.2663 - val_accuracy: 0.5556\n",
            "Epoch 15/100\n",
            "21/21 [==============================] - 8s 357ms/step - loss: 1.1953 - accuracy: 0.5620 - val_loss: 1.0419 - val_accuracy: 0.5833\n",
            "Epoch 16/100\n",
            "21/21 [==============================] - 8s 361ms/step - loss: 1.1888 - accuracy: 0.5579 - val_loss: 1.1326 - val_accuracy: 0.6204\n",
            "Epoch 17/100\n",
            "21/21 [==============================] - 8s 360ms/step - loss: 1.1895 - accuracy: 0.5372 - val_loss: 1.3347 - val_accuracy: 0.5833\n",
            "Epoch 18/100\n",
            "21/21 [==============================] - 7s 356ms/step - loss: 1.1726 - accuracy: 0.5661 - val_loss: 1.1078 - val_accuracy: 0.6481\n",
            "Epoch 19/100\n",
            "21/21 [==============================] - 8s 358ms/step - loss: 0.9674 - accuracy: 0.6405 - val_loss: 0.9864 - val_accuracy: 0.6481\n",
            "Epoch 20/100\n",
            "21/21 [==============================] - 7s 357ms/step - loss: 0.9335 - accuracy: 0.6777 - val_loss: 0.9333 - val_accuracy: 0.6481\n",
            "Epoch 21/100\n",
            "21/21 [==============================] - 7s 355ms/step - loss: 0.9614 - accuracy: 0.6529 - val_loss: 1.1479 - val_accuracy: 0.6204\n",
            "Epoch 22/100\n",
            "21/21 [==============================] - 8s 363ms/step - loss: 0.9817 - accuracy: 0.6612 - val_loss: 1.0860 - val_accuracy: 0.5833\n",
            "Epoch 23/100\n",
            "21/21 [==============================] - 7s 353ms/step - loss: 0.8478 - accuracy: 0.7066 - val_loss: 1.1085 - val_accuracy: 0.6204\n",
            "Epoch 24/100\n",
            "21/21 [==============================] - 8s 359ms/step - loss: 0.8063 - accuracy: 0.7149 - val_loss: 0.9148 - val_accuracy: 0.6667\n",
            "Epoch 25/100\n",
            "21/21 [==============================] - 8s 363ms/step - loss: 0.9401 - accuracy: 0.6612 - val_loss: 1.0861 - val_accuracy: 0.6481\n",
            "Epoch 26/100\n",
            "21/21 [==============================] - 8s 369ms/step - loss: 0.8380 - accuracy: 0.7231 - val_loss: 1.0216 - val_accuracy: 0.6481\n",
            "Epoch 27/100\n",
            "21/21 [==============================] - 8s 360ms/step - loss: 0.9210 - accuracy: 0.6818 - val_loss: 1.0333 - val_accuracy: 0.6296\n",
            "Epoch 28/100\n",
            "21/21 [==============================] - 8s 364ms/step - loss: 0.7907 - accuracy: 0.7143 - val_loss: 0.9428 - val_accuracy: 0.6759\n",
            "Epoch 29/100\n",
            "21/21 [==============================] - 7s 356ms/step - loss: 1.0152 - accuracy: 0.6405 - val_loss: 1.1025 - val_accuracy: 0.6296\n",
            "Epoch 30/100\n",
            "21/21 [==============================] - 8s 361ms/step - loss: 0.8709 - accuracy: 0.7066 - val_loss: 1.1127 - val_accuracy: 0.6111\n",
            "Epoch 31/100\n",
            "21/21 [==============================] - 7s 357ms/step - loss: 0.8377 - accuracy: 0.6983 - val_loss: 0.8839 - val_accuracy: 0.6944\n",
            "Epoch 32/100\n",
            "21/21 [==============================] - 8s 362ms/step - loss: 0.8732 - accuracy: 0.6653 - val_loss: 0.9725 - val_accuracy: 0.6296\n",
            "Epoch 33/100\n",
            "21/21 [==============================] - 8s 360ms/step - loss: 0.7160 - accuracy: 0.7107 - val_loss: 0.8336 - val_accuracy: 0.6759\n",
            "Epoch 34/100\n",
            "21/21 [==============================] - 7s 356ms/step - loss: 0.7714 - accuracy: 0.6942 - val_loss: 0.9213 - val_accuracy: 0.7037\n",
            "Epoch 35/100\n",
            "21/21 [==============================] - 8s 357ms/step - loss: 0.7395 - accuracy: 0.7066 - val_loss: 0.9744 - val_accuracy: 0.6667\n",
            "Epoch 36/100\n",
            "21/21 [==============================] - 8s 362ms/step - loss: 0.7347 - accuracy: 0.7397 - val_loss: 1.2956 - val_accuracy: 0.6111\n",
            "Epoch 37/100\n",
            "21/21 [==============================] - 8s 378ms/step - loss: 0.8189 - accuracy: 0.6901 - val_loss: 1.0757 - val_accuracy: 0.6296\n",
            "Epoch 38/100\n",
            "21/21 [==============================] - 8s 360ms/step - loss: 0.7868 - accuracy: 0.7273 - val_loss: 0.9368 - val_accuracy: 0.6759\n",
            "Epoch 39/100\n",
            "21/21 [==============================] - 7s 354ms/step - loss: 0.7504 - accuracy: 0.7231 - val_loss: 0.9961 - val_accuracy: 0.6481\n",
            "Epoch 40/100\n",
            "21/21 [==============================] - 8s 361ms/step - loss: 0.7966 - accuracy: 0.6777 - val_loss: 1.0672 - val_accuracy: 0.6204\n",
            "Epoch 41/100\n",
            "21/21 [==============================] - 7s 356ms/step - loss: 0.7670 - accuracy: 0.7149 - val_loss: 0.9289 - val_accuracy: 0.6574\n",
            "Epoch 42/100\n",
            "21/21 [==============================] - 7s 349ms/step - loss: 0.8163 - accuracy: 0.6570 - val_loss: 0.9393 - val_accuracy: 0.6574\n",
            "Epoch 43/100\n",
            "21/21 [==============================] - 8s 368ms/step - loss: 0.7830 - accuracy: 0.7521 - val_loss: 1.0106 - val_accuracy: 0.7037\n",
            "Epoch 44/100\n",
            "21/21 [==============================] - 7s 351ms/step - loss: 0.6756 - accuracy: 0.7769 - val_loss: 0.8504 - val_accuracy: 0.7222\n",
            "Epoch 45/100\n",
            "21/21 [==============================] - 7s 356ms/step - loss: 0.7473 - accuracy: 0.7438 - val_loss: 0.8126 - val_accuracy: 0.7222\n",
            "Epoch 46/100\n",
            "21/21 [==============================] - 7s 354ms/step - loss: 0.8189 - accuracy: 0.6942 - val_loss: 0.9239 - val_accuracy: 0.6759\n",
            "Epoch 47/100\n",
            "21/21 [==============================] - 7s 347ms/step - loss: 0.6443 - accuracy: 0.8017 - val_loss: 0.9818 - val_accuracy: 0.6667\n",
            "Epoch 48/100\n",
            "21/21 [==============================] - 8s 361ms/step - loss: 0.6258 - accuracy: 0.7521 - val_loss: 0.8672 - val_accuracy: 0.6944\n",
            "Epoch 49/100\n",
            "21/21 [==============================] - 7s 349ms/step - loss: 0.6362 - accuracy: 0.7727 - val_loss: 0.9327 - val_accuracy: 0.7130\n",
            "Epoch 50/100\n",
            "21/21 [==============================] - 7s 349ms/step - loss: 0.6855 - accuracy: 0.7025 - val_loss: 0.9998 - val_accuracy: 0.7130\n",
            "Epoch 51/100\n",
            "21/21 [==============================] - 7s 349ms/step - loss: 0.7415 - accuracy: 0.7273 - val_loss: 1.0304 - val_accuracy: 0.6389\n",
            "Epoch 52/100\n",
            "21/21 [==============================] - 8s 368ms/step - loss: 0.7473 - accuracy: 0.7025 - val_loss: 1.0176 - val_accuracy: 0.6574\n",
            "Epoch 53/100\n",
            "21/21 [==============================] - 7s 355ms/step - loss: 0.5806 - accuracy: 0.7579 - val_loss: 0.9355 - val_accuracy: 0.6944\n",
            "Epoch 54/100\n",
            "21/21 [==============================] - 7s 353ms/step - loss: 0.7085 - accuracy: 0.7438 - val_loss: 0.9638 - val_accuracy: 0.6852\n",
            "Epoch 55/100\n",
            "21/21 [==============================] - 7s 348ms/step - loss: 0.8689 - accuracy: 0.6901 - val_loss: 0.9604 - val_accuracy: 0.6667\n",
            "Epoch 56/100\n",
            "21/21 [==============================] - 7s 356ms/step - loss: 0.6656 - accuracy: 0.7231 - val_loss: 0.9508 - val_accuracy: 0.6852\n",
            "Epoch 57/100\n",
            "21/21 [==============================] - 7s 354ms/step - loss: 0.8211 - accuracy: 0.6901 - val_loss: 0.9072 - val_accuracy: 0.6759\n",
            "Epoch 58/100\n",
            "21/21 [==============================] - 8s 360ms/step - loss: 0.6419 - accuracy: 0.7603 - val_loss: 0.9474 - val_accuracy: 0.7037\n",
            "Epoch 59/100\n",
            "21/21 [==============================] - 8s 360ms/step - loss: 0.5803 - accuracy: 0.7686 - val_loss: 1.0935 - val_accuracy: 0.6944\n",
            "Epoch 60/100\n",
            "21/21 [==============================] - 8s 366ms/step - loss: 0.7208 - accuracy: 0.7438 - val_loss: 1.0219 - val_accuracy: 0.6944\n",
            "Epoch 61/100\n",
            "21/21 [==============================] - 7s 354ms/step - loss: 0.6482 - accuracy: 0.7562 - val_loss: 0.9918 - val_accuracy: 0.6574\n",
            "Epoch 62/100\n",
            "21/21 [==============================] - 8s 358ms/step - loss: 0.5310 - accuracy: 0.7934 - val_loss: 1.0501 - val_accuracy: 0.6667\n",
            "Epoch 63/100\n",
            "21/21 [==============================] - 7s 356ms/step - loss: 0.6348 - accuracy: 0.7810 - val_loss: 0.9977 - val_accuracy: 0.6944\n",
            "Epoch 64/100\n",
            "21/21 [==============================] - 8s 366ms/step - loss: 0.6404 - accuracy: 0.7934 - val_loss: 0.9082 - val_accuracy: 0.7130\n",
            "Epoch 65/100\n",
            "21/21 [==============================] - 7s 356ms/step - loss: 0.5633 - accuracy: 0.7934 - val_loss: 1.0237 - val_accuracy: 0.6667\n",
            "Epoch 66/100\n",
            "21/21 [==============================] - 7s 354ms/step - loss: 0.8037 - accuracy: 0.7355 - val_loss: 1.0515 - val_accuracy: 0.6944\n",
            "Epoch 67/100\n",
            "21/21 [==============================] - 7s 353ms/step - loss: 0.6389 - accuracy: 0.7521 - val_loss: 1.0281 - val_accuracy: 0.6574\n",
            "Epoch 68/100\n",
            "21/21 [==============================] - 8s 363ms/step - loss: 0.7878 - accuracy: 0.6942 - val_loss: 1.2172 - val_accuracy: 0.6759\n",
            "Epoch 69/100\n",
            "21/21 [==============================] - 8s 360ms/step - loss: 0.6338 - accuracy: 0.7603 - val_loss: 1.2785 - val_accuracy: 0.6204\n",
            "Epoch 70/100\n",
            "21/21 [==============================] - 7s 356ms/step - loss: 0.7438 - accuracy: 0.7231 - val_loss: 0.9255 - val_accuracy: 0.7222\n",
            "Epoch 71/100\n",
            "21/21 [==============================] - 8s 359ms/step - loss: 0.7180 - accuracy: 0.7273 - val_loss: 1.0413 - val_accuracy: 0.6852\n",
            "Epoch 72/100\n",
            "21/21 [==============================] - 8s 359ms/step - loss: 0.4406 - accuracy: 0.8512 - val_loss: 0.9603 - val_accuracy: 0.7130\n",
            "Epoch 73/100\n",
            "21/21 [==============================] - 8s 357ms/step - loss: 0.6491 - accuracy: 0.7460 - val_loss: 1.1005 - val_accuracy: 0.6759\n",
            "Epoch 74/100\n",
            "21/21 [==============================] - 7s 353ms/step - loss: 0.4967 - accuracy: 0.8140 - val_loss: 1.0574 - val_accuracy: 0.6944\n",
            "Epoch 75/100\n",
            "21/21 [==============================] - 8s 358ms/step - loss: 0.4291 - accuracy: 0.8636 - val_loss: 1.0001 - val_accuracy: 0.6759\n",
            "Epoch 76/100\n",
            "21/21 [==============================] - 8s 363ms/step - loss: 0.5768 - accuracy: 0.7645 - val_loss: 1.0258 - val_accuracy: 0.7222\n",
            "Epoch 77/100\n",
            "21/21 [==============================] - 7s 351ms/step - loss: 0.6827 - accuracy: 0.7603 - val_loss: 1.1177 - val_accuracy: 0.6852\n",
            "Epoch 78/100\n",
            "21/21 [==============================] - 8s 359ms/step - loss: 0.5448 - accuracy: 0.8099 - val_loss: 1.0411 - val_accuracy: 0.6759\n",
            "Epoch 79/100\n",
            "21/21 [==============================] - 7s 357ms/step - loss: 0.5354 - accuracy: 0.7934 - val_loss: 1.1127 - val_accuracy: 0.6389\n",
            "Epoch 80/100\n",
            "21/21 [==============================] - 7s 355ms/step - loss: 0.5870 - accuracy: 0.8058 - val_loss: 1.1478 - val_accuracy: 0.6667\n",
            "Epoch 81/100\n",
            "21/21 [==============================] - 7s 356ms/step - loss: 0.5523 - accuracy: 0.7934 - val_loss: 1.0683 - val_accuracy: 0.7130\n",
            "Epoch 82/100\n",
            "21/21 [==============================] - 7s 355ms/step - loss: 0.5297 - accuracy: 0.8182 - val_loss: 0.9685 - val_accuracy: 0.7037\n",
            "Epoch 83/100\n",
            "21/21 [==============================] - 8s 377ms/step - loss: 0.5170 - accuracy: 0.8182 - val_loss: 0.9688 - val_accuracy: 0.6574\n",
            "Epoch 84/100\n",
            "21/21 [==============================] - 7s 354ms/step - loss: 0.5098 - accuracy: 0.8223 - val_loss: 0.8408 - val_accuracy: 0.7315\n",
            "Epoch 85/100\n",
            "21/21 [==============================] - 7s 354ms/step - loss: 0.4903 - accuracy: 0.8058 - val_loss: 1.0543 - val_accuracy: 0.6944\n",
            "Epoch 86/100\n",
            "21/21 [==============================] - 7s 356ms/step - loss: 0.5114 - accuracy: 0.8140 - val_loss: 1.0018 - val_accuracy: 0.6667\n",
            "Epoch 87/100\n",
            "21/21 [==============================] - 7s 351ms/step - loss: 0.4469 - accuracy: 0.8347 - val_loss: 1.2119 - val_accuracy: 0.6389\n",
            "Epoch 88/100\n",
            "21/21 [==============================] - 8s 363ms/step - loss: 0.5252 - accuracy: 0.8099 - val_loss: 1.1010 - val_accuracy: 0.6852\n",
            "Epoch 89/100\n",
            "21/21 [==============================] - 8s 361ms/step - loss: 0.4545 - accuracy: 0.8264 - val_loss: 1.0171 - val_accuracy: 0.6481\n",
            "Epoch 90/100\n",
            "21/21 [==============================] - 7s 353ms/step - loss: 0.5140 - accuracy: 0.7851 - val_loss: 1.9796 - val_accuracy: 0.5741\n",
            "Epoch 91/100\n",
            "21/21 [==============================] - 7s 354ms/step - loss: 0.6340 - accuracy: 0.7893 - val_loss: 1.2083 - val_accuracy: 0.6481\n",
            "Epoch 92/100\n",
            "21/21 [==============================] - 7s 352ms/step - loss: 0.5603 - accuracy: 0.8140 - val_loss: 0.9801 - val_accuracy: 0.6944\n",
            "Epoch 93/100\n",
            "21/21 [==============================] - 8s 358ms/step - loss: 0.5243 - accuracy: 0.8140 - val_loss: 0.9978 - val_accuracy: 0.6944\n",
            "Epoch 94/100\n",
            "21/21 [==============================] - 7s 353ms/step - loss: 0.5533 - accuracy: 0.7810 - val_loss: 0.9320 - val_accuracy: 0.6944\n",
            "Epoch 95/100\n",
            "21/21 [==============================] - 7s 356ms/step - loss: 0.4476 - accuracy: 0.8430 - val_loss: 1.1923 - val_accuracy: 0.6667\n",
            "Epoch 96/100\n",
            "21/21 [==============================] - 7s 357ms/step - loss: 0.4355 - accuracy: 0.8140 - val_loss: 0.9875 - val_accuracy: 0.7037\n",
            "Epoch 97/100\n",
            "21/21 [==============================] - 7s 357ms/step - loss: 0.3792 - accuracy: 0.8512 - val_loss: 1.1215 - val_accuracy: 0.7037\n",
            "Epoch 98/100\n",
            "21/21 [==============================] - 7s 355ms/step - loss: 0.4504 - accuracy: 0.8223 - val_loss: 1.2652 - val_accuracy: 0.6574\n",
            "Epoch 99/100\n",
            "21/21 [==============================] - 8s 364ms/step - loss: 0.5242 - accuracy: 0.8058 - val_loss: 1.1327 - val_accuracy: 0.6759\n",
            "Epoch 100/100\n",
            "21/21 [==============================] - 7s 352ms/step - loss: 0.3853 - accuracy: 0.8554 - val_loss: 1.5533 - val_accuracy: 0.6667\n"
          ],
          "name": "stdout"
        }
      ]
    },
    {
      "cell_type": "code",
      "metadata": {
        "id": "cRwe7vMoRM5V",
        "colab_type": "code",
        "colab": {}
      },
      "source": [
        "model.save('/content/drive/My Drive/Colab Data/dance.h5')"
      ],
      "execution_count": null,
      "outputs": []
    },
    {
      "cell_type": "code",
      "metadata": {
        "id": "ApACGBVjSQMm",
        "colab_type": "code",
        "colab": {
          "base_uri": "https://localhost:8080/",
          "height": 545
        },
        "outputId": "b11ed46e-fbe0-442a-ddf2-0041635c13e8"
      },
      "source": [
        "import matplotlib.pyplot as plt\n",
        "acc = history.history['accuracy']\n",
        "val_acc = history.history['val_accuracy']\n",
        "loss = history.history['loss']\n",
        "val_loss = history.history['val_loss']\n",
        "\n",
        "epochs = range(len(acc))\n",
        "\n",
        "plt.plot(epochs, acc, 'r', label='Training accuracy')\n",
        "plt.plot(epochs, val_acc, 'b', label='Validation accuracy')\n",
        "plt.title('Training and validation accuracy')\n",
        "\n",
        "plt.figure()\n",
        "\n",
        "plt.plot(epochs, loss, 'r', label='Training Loss')\n",
        "plt.plot(epochs, val_loss, 'b', label='Validation Loss')\n",
        "plt.title('Training and validation loss')\n",
        "plt.legend()\n",
        "\n",
        "plt.show()"
      ],
      "execution_count": null,
      "outputs": [
        {
          "output_type": "display_data",
          "data": {
            "image/png": "[encoded data removed]",
            "text/plain": [
              "<Figure size 432x288 with 1 Axes>"
            ]
          },
          "metadata": {
            "tags": [],
            "needs_background": "light"
          }
        },
        {
          "output_type": "display_data",
          "data": {
            "image/png": "[encoded data removed]",
            "text/plain": [
              "<Figure size 432x288 with 1 Axes>"
            ]
          },
          "metadata": {
            "tags": [],
            "needs_background": "light"
          }
        }
      ]
    },
    {
      "cell_type": "markdown",
      "metadata": {
        "id": "QofOVcuYS-K4",
        "colab_type": "text"
      },
      "source": [
        "## Predicting Dance Forms"
      ]
    },
    {
      "cell_type": "code",
      "metadata": {
        "id": "S4q7oFWUT0t8",
        "colab_type": "code",
        "colab": {}
      },
      "source": [
        "test=pd.read_csv('dataset/test.csv')"
      ],
      "execution_count": null,
      "outputs": []
    },
    {
      "cell_type": "code",
      "metadata": {
        "id": "dbCbLhFETCNm",
        "colab_type": "code",
        "colab": {}
      },
      "source": [
        "test_datagen = ImageDataGenerator(rescale=1/255)"
      ],
      "execution_count": null,
      "outputs": []
    },
    {
      "cell_type": "code",
      "metadata": {
        "id": "Fm-SRCL4TVVY",
        "colab_type": "code",
        "colab": {
          "base_uri": "https://localhost:8080/",
          "height": 34
        },
        "outputId": "5df5d382-be52-4d4d-9d57-d775bc788cb7"
      },
      "source": [
        "test_ag=test_datagen.flow_from_dataframe(test,directory='dataset/test',x_col='Image',\n",
        "                                           target_size=(400,250), class_mode=None,batch_size=12,shuffle=False)"
      ],
      "execution_count": null,
      "outputs": [
        {
          "output_type": "stream",
          "text": [
            "Found 156 validated image filenames.\n"
          ],
          "name": "stdout"
        }
      ]
    },
    {
      "cell_type": "code",
      "metadata": {
        "id": "5aXgOWbYXqlz",
        "colab_type": "code",
        "colab": {}
      },
      "source": [
        "classes=train_ag.class_indices\n",
        "inv_map = {v: k for k, v in classes.items()}"
      ],
      "execution_count": null,
      "outputs": []
    },
    {
      "cell_type": "code",
      "metadata": {
        "id": "389j8fcdsnTF",
        "colab_type": "code",
        "colab": {
          "base_uri": "https://localhost:8080/",
          "height": 153
        },
        "outputId": "a9d69124-26ff-4420-b9a5-a67f0f662e7b"
      },
      "source": [
        "predicted_outputs=model.predict(test_ag)\n",
        "predicted_outputs=np.argmax(predicted_outputs,axis=1)\n",
        "predicted_outputs"
      ],
      "execution_count": null,
      "outputs": [
        {
          "output_type": "execute_result",
          "data": {
            "text/plain": [
              "array([6, 3, 6, 6, 0, 3, 0, 2, 3, 6, 1, 0, 7, 7, 6, 0, 6, 1, 5, 0, 6, 2,\n",
              "       2, 6, 1, 2, 6, 0, 1, 0, 3, 3, 1, 0, 5, 6, 6, 6, 1, 6, 1, 1, 1, 7,\n",
              "       0, 7, 6, 7, 2, 0, 5, 6, 0, 0, 1, 1, 4, 6, 3, 0, 2, 4, 0, 0, 1, 3,\n",
              "       2, 0, 0, 0, 6, 6, 2, 7, 6, 2, 0, 0, 2, 1, 0, 1, 7, 6, 6, 0, 7, 1,\n",
              "       4, 2, 4, 1, 1, 1, 6, 0, 7, 2, 0, 3, 6, 0, 1, 6, 1, 3, 2, 6, 4, 6,\n",
              "       1, 2, 6, 6, 3, 6, 2, 2, 7, 3, 6, 0, 3, 5, 6, 5, 1, 5, 1, 6, 6, 5,\n",
              "       0, 6, 4, 6, 6, 0, 0, 1, 7, 1, 4, 2, 3, 2, 3, 5, 4, 6, 5, 7, 7, 0,\n",
              "       6, 7])"
            ]
          },
          "metadata": {
            "tags": []
          },
          "execution_count": 178
        }
      ]
    },
    {
      "cell_type": "code",
      "metadata": {
        "id": "AVftSXvPY-SS",
        "colab_type": "code",
        "colab": {}
      },
      "source": [
        "predicted_outputs=[inv_map[i] for i in predicted_outputs]\n",
        "predicted_outputs=pd.Series(data=predicted_outputs)"
      ],
      "execution_count": null,
      "outputs": []
    },
    {
      "cell_type": "code",
      "metadata": {
        "id": "DlTfi5-yc3ij",
        "colab_type": "code",
        "colab": {}
      },
      "source": [
        "final=pd.merge(test,predicted_outputs.rename('target'),left_index=True, right_index=True)"
      ],
      "execution_count": null,
      "outputs": []
    },
    {
      "cell_type": "code",
      "metadata": {
        "id": "j_vjWy-Ie7rc",
        "colab_type": "code",
        "colab": {}
      },
      "source": [
        "final.to_csv(\"results.csv\")"
      ],
      "execution_count": null,
      "outputs": []
    }
  ]
}