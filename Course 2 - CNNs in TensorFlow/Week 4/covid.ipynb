{
  "nbformat": 4,
  "nbformat_minor": 0,
  "metadata": {
    "colab": {
      "name": "covid.ipynb",
      "provenance": [],
      "collapsed_sections": [
        "miHjUaExq-Rr",
        "d7XC681jrD-C"
      ]
    },
    "kernelspec": {
      "name": "python3",
      "display_name": "Python 3"
    },
    "accelerator": "GPU"
  },
  "cells": [
    {
      "cell_type": "markdown",
      "metadata": {
        "id": "3-vzj_fS4lSm",
        "colab_type": "text"
      },
      "source": [
        "# Covid-19 CT-Scan Classifier"
      ]
    },
    {
      "cell_type": "markdown",
      "metadata": {
        "id": "MAAaak-M4rb_",
        "colab_type": "text"
      },
      "source": [
        "## Data Acquisition"
      ]
    },
    {
      "cell_type": "markdown",
      "metadata": {
        "id": "miHjUaExq-Rr",
        "colab_type": "text"
      },
      "source": [
        "### Extracting the images"
      ]
    },
    {
      "cell_type": "code",
      "metadata": {
        "id": "YLDAmaBn5Dj_",
        "colab_type": "code",
        "colab": {
          "base_uri": "https://localhost:8080/",
          "height": 122
        },
        "outputId": "4d9348f6-f655-4c40-e98f-0ded674d4b37"
      },
      "source": [
        "from google.colab import drive\n",
        "drive.mount('/content/drive')"
      ],
      "execution_count": 2,
      "outputs": [
        {
          "output_type": "stream",
          "text": [
            "Go to this URL in a browser: https://accounts.google.com/o/oauth2/auth?client_id=947318989803-6bn6qk8qdgf4n4g3pfee6491hc0brc4i.apps.googleusercontent.com&redirect_uri=urn%3aietf%3awg%3aoauth%3a2.0%3aoob&response_type=code&scope=email%20https%3a%2f%2fwww.googleapis.com%2fauth%2fdocs.test%20https%3a%2f%2fwww.googleapis.com%2fauth%2fdrive%20https%3a%2f%2fwww.googleapis.com%2fauth%2fdrive.photos.readonly%20https%3a%2f%2fwww.googleapis.com%2fauth%2fpeopleapi.readonly\n",
            "\n",
            "Enter your authorization code:\n",
            "··········\n",
            "Mounted at /content/drive\n"
          ],
          "name": "stdout"
        }
      ]
    },
    {
      "cell_type": "code",
      "metadata": {
        "id": "oPos2Q9-4bmv",
        "colab_type": "code",
        "colab": {
          "base_uri": "https://localhost:8080/",
          "height": 119
        },
        "outputId": "e32580d6-3df3-40da-b84a-86a99b122eb6"
      },
      "source": [
        "# !git clone https://github.com/UCSD-AI4H/COVID-CT.git"
      ],
      "execution_count": 1,
      "outputs": [
        {
          "output_type": "stream",
          "text": [
            "Cloning into 'COVID-CT'...\n",
            "remote: Enumerating objects: 5459, done.\u001b[K\n",
            "remote: Total 5459 (delta 0), reused 0 (delta 0), pack-reused 5459\u001b[K\n",
            "Receiving objects: 100% (5459/5459), 1.09 GiB | 35.08 MiB/s, done.\n",
            "Resolving deltas: 100% (363/363), done.\n",
            "Checking out files: 100% (1048/1048), done.\n"
          ],
          "name": "stdout"
        }
      ]
    },
    {
      "cell_type": "code",
      "metadata": {
        "id": "UWMa4Dml8OXY",
        "colab_type": "code",
        "colab": {
          "base_uri": "https://localhost:8080/",
          "height": 68
        },
        "outputId": "53bfd17a-6beb-4418-f388-1079c331a381"
      },
      "source": [
        "# !unzip '/content/COVID-CT/Images-processed/CT_NonCOVID.zip'"
      ],
      "execution_count": 32,
      "outputs": [
        {
          "output_type": "stream",
          "text": [
            "Archive:  /content/COVID-CT/Images-processed/CT_NonCOVID.zip\n",
            "replace CT_NonCOVID/0.jpg? [y]es, [n]o, [A]ll, [N]one, [r]ename: n\n",
            "replace CT_NonCOVID/1%0.jpg? [y]es, [n]o, [A]ll, [N]one, [r]ename: N\n"
          ],
          "name": "stdout"
        }
      ]
    },
    {
      "cell_type": "code",
      "metadata": {
        "id": "Sk0lD_rMp15V",
        "colab_type": "code",
        "colab": {}
      },
      "source": [
        "# !unzip '/content/COVID-CT/Images-processed/CT_COVID.zip'"
      ],
      "execution_count": null,
      "outputs": []
    },
    {
      "cell_type": "code",
      "metadata": {
        "id": "37m7l3gy8ml4",
        "colab_type": "code",
        "colab": {}
      },
      "source": [
        "# !rm -rf '/content/__MACOSX'"
      ],
      "execution_count": 5,
      "outputs": []
    },
    {
      "cell_type": "markdown",
      "metadata": {
        "id": "d7XC681jrD-C",
        "colab_type": "text"
      },
      "source": [
        "### Splitting Dataset"
      ]
    },
    {
      "cell_type": "code",
      "metadata": {
        "id": "W1Ht4BR2vxNW",
        "colab_type": "code",
        "colab": {}
      },
      "source": [
        "# import os\n",
        "# from shutil import copy"
      ],
      "execution_count": 14,
      "outputs": []
    },
    {
      "cell_type": "code",
      "metadata": {
        "id": "Kcjw3RWXrPjZ",
        "colab_type": "code",
        "colab": {}
      },
      "source": [
        "# file_list=[]\n",
        "\n",
        "# basedir='/content/CT_NonCOVID'\n",
        "# f = open(\"/content/COVID-CT/Data-split/NonCOVID/valCT_NonCOVID.txt\")\n",
        "# for i in f.readlines():\n",
        "#   fname=i.rstrip()\n",
        "#   copy(os.path.join(basedir,fname),'/content/validation/ncovid')  "
      ],
      "execution_count": 31,
      "outputs": []
    },
    {
      "cell_type": "markdown",
      "metadata": {
        "id": "K6EFvZOJ3EdX",
        "colab_type": "text"
      },
      "source": [
        "### Drive Copy"
      ]
    },
    {
      "cell_type": "code",
      "metadata": {
        "id": "FuC5CUY-3cpX",
        "colab_type": "code",
        "colab": {}
      },
      "source": [
        "!rm -rf test\n",
        "!cp '/content/drive/My Drive/Colab Data/Covid/test' -r -d test"
      ],
      "execution_count": 55,
      "outputs": []
    },
    {
      "cell_type": "code",
      "metadata": {
        "id": "RPLx83az35cA",
        "colab_type": "code",
        "colab": {}
      },
      "source": [
        "!rm -rf train\n",
        "!cp '/content/drive/My Drive/Colab Data/Covid/train' -r -d train"
      ],
      "execution_count": 56,
      "outputs": []
    },
    {
      "cell_type": "code",
      "metadata": {
        "id": "O5Vw3BDI37ns",
        "colab_type": "code",
        "colab": {}
      },
      "source": [
        "!rm -rf validation\n",
        "!cp '/content/drive/My Drive/Colab Data/Covid/validation' -r -d validation"
      ],
      "execution_count": 57,
      "outputs": []
    },
    {
      "cell_type": "markdown",
      "metadata": {
        "id": "sx8vG3qX4zZv",
        "colab_type": "text"
      },
      "source": [
        "## Preprocessing"
      ]
    },
    {
      "cell_type": "code",
      "metadata": {
        "id": "Z-4GztA743Yf",
        "colab_type": "code",
        "colab": {
          "base_uri": "https://localhost:8080/",
          "height": 119
        },
        "outputId": "e4630a72-80bb-414c-e345-65935e62137f"
      },
      "source": [
        "print('total training covid images:', len(os.listdir('/content/train/covid')))\n",
        "print('total training non-covid images:', len(os.listdir('/content/train/ncovid')))\n",
        "print('total validation covid images:', len(os.listdir('/content/validation/covid')))\n",
        "print('total validation non-covid images:', len(os.listdir('/content/validation/ncovid')))\n",
        "print('total test covid images:', len(os.listdir('/content/test/covid')))\n",
        "print('total test non-covid images:', len(os.listdir('/content/test/ncovid')))"
      ],
      "execution_count": 58,
      "outputs": [
        {
          "output_type": "stream",
          "text": [
            "total training covid images: 191\n",
            "total training non-covid images: 234\n",
            "total validation covid images: 60\n",
            "total validation non-covid images: 58\n",
            "total test covid images: 98\n",
            "total test non-covid images: 105\n"
          ],
          "name": "stdout"
        }
      ]
    },
    {
      "cell_type": "code",
      "metadata": {
        "id": "DdQLsCr79jep",
        "colab_type": "code",
        "colab": {}
      },
      "source": [
        "from tensorflow.keras.preprocessing.image import ImageDataGenerator\n",
        "train_datagen = ImageDataGenerator(\n",
        "      rescale=1./255,\n",
        "      rotation_range=40,\n",
        "      width_shift_range=0.2,\n",
        "      height_shift_range=0.2,\n",
        "      shear_range=0.2,\n",
        "      zoom_range=0.2,\n",
        "      horizontal_flip=True,\n",
        "      fill_mode='nearest')\n",
        "validation_datagen = ImageDataGenerator(rescale=1./255)\n",
        "test_datagen = ImageDataGenerator(rescale=1./255)"
      ],
      "execution_count": 59,
      "outputs": []
    },
    {
      "cell_type": "code",
      "metadata": {
        "id": "6GKSGJz3-jgz",
        "colab_type": "code",
        "colab": {
          "base_uri": "https://localhost:8080/",
          "height": 68
        },
        "outputId": "a8372499-48b9-4ce2-a28f-61ccab376351"
      },
      "source": [
        "train_generator = train_datagen.flow_from_directory('/content/train',class_mode='binary',target_size=(300, 300))\n",
        "validation_generator = validation_datagen.flow_from_directory('/content/validation',class_mode='binary',target_size=(300, 300))\n",
        "test_generator = test_datagen.flow_from_directory('/content/test',class_mode='binary',target_size=(300, 300))"
      ],
      "execution_count": 60,
      "outputs": [
        {
          "output_type": "stream",
          "text": [
            "Found 425 images belonging to 2 classes.\n",
            "Found 118 images belonging to 2 classes.\n",
            "Found 203 images belonging to 2 classes.\n"
          ],
          "name": "stdout"
        }
      ]
    },
    {
      "cell_type": "code",
      "metadata": {
        "id": "JxOg0gL0_GJS",
        "colab_type": "code",
        "colab": {}
      },
      "source": [
        "import numpy as np\n",
        "import tensorflow as tf\n",
        "from tensorflow.keras.optimizers import RMSprop\n",
        "model = tf.keras.models.Sequential([\n",
        "    tf.keras.layers.Conv2D(16,(3,3),activation='relu',input_shape=(300,300,3)),\n",
        "    tf.keras.layers.MaxPooling2D(2,2),\n",
        "    tf.keras.layers.Conv2D(64,(3,3),activation='relu'),\n",
        "    tf.keras.layers.MaxPooling2D(2,2),\n",
        "    tf.keras.layers.Conv2D(32,(3,3),activation='relu'),\n",
        "    tf.keras.layers.MaxPooling2D(2,2),\n",
        "    tf.keras.layers.Flatten(),\n",
        "    tf.keras.layers.Dense(256,activation='relu'),\n",
        "    tf.keras.layers.Dense(1,activation='sigmoid')\n",
        "])"
      ],
      "execution_count": 71,
      "outputs": []
    },
    {
      "cell_type": "code",
      "metadata": {
        "id": "SyrI2qv9D6s-",
        "colab_type": "code",
        "colab": {
          "base_uri": "https://localhost:8080/",
          "height": 459
        },
        "outputId": "e7c99fed-a1b5-481b-dabc-c834624d452b"
      },
      "source": [
        "model.compile(optimizer=RMSprop(lr=0.001), loss='binary_crossentropy', metrics=['acc'])\n",
        "model.summary()"
      ],
      "execution_count": 72,
      "outputs": [
        {
          "output_type": "stream",
          "text": [
            "Model: \"sequential_2\"\n",
            "_________________________________________________________________\n",
            "Layer (type)                 Output Shape              Param #   \n",
            "=================================================================\n",
            "conv2d_6 (Conv2D)            (None, 298, 298, 16)      448       \n",
            "_________________________________________________________________\n",
            "max_pooling2d_6 (MaxPooling2 (None, 149, 149, 16)      0         \n",
            "_________________________________________________________________\n",
            "conv2d_7 (Conv2D)            (None, 147, 147, 64)      9280      \n",
            "_________________________________________________________________\n",
            "max_pooling2d_7 (MaxPooling2 (None, 73, 73, 64)        0         \n",
            "_________________________________________________________________\n",
            "conv2d_8 (Conv2D)            (None, 71, 71, 32)        18464     \n",
            "_________________________________________________________________\n",
            "max_pooling2d_8 (MaxPooling2 (None, 35, 35, 32)        0         \n",
            "_________________________________________________________________\n",
            "flatten_2 (Flatten)          (None, 39200)             0         \n",
            "_________________________________________________________________\n",
            "dense_4 (Dense)              (None, 256)               10035456  \n",
            "_________________________________________________________________\n",
            "dense_5 (Dense)              (None, 1)                 257       \n",
            "=================================================================\n",
            "Total params: 10,063,905\n",
            "Trainable params: 10,063,905\n",
            "Non-trainable params: 0\n",
            "_________________________________________________________________\n"
          ],
          "name": "stdout"
        }
      ]
    },
    {
      "cell_type": "code",
      "metadata": {
        "id": "amrq3B8VEIom",
        "colab_type": "code",
        "colab": {
          "base_uri": "https://localhost:8080/",
          "height": 1000
        },
        "outputId": "d14937f5-1f99-4491-848f-9b783725b022"
      },
      "source": [
        "history = model.fit(train_generator,epochs=50,verbose=2,validation_data=validation_generator)"
      ],
      "execution_count": 75,
      "outputs": [
        {
          "output_type": "stream",
          "text": [
            "Epoch 1/50\n",
            "14/14 - 11s - loss: 0.6416 - acc: 0.6024 - val_loss: 0.9422 - val_acc: 0.5000\n",
            "Epoch 2/50\n",
            "14/14 - 11s - loss: 0.6363 - acc: 0.5741 - val_loss: 0.8152 - val_acc: 0.4831\n",
            "Epoch 3/50\n",
            "14/14 - 12s - loss: 0.6297 - acc: 0.6565 - val_loss: 0.7729 - val_acc: 0.5000\n",
            "Epoch 4/50\n",
            "14/14 - 11s - loss: 0.7407 - acc: 0.6282 - val_loss: 0.7641 - val_acc: 0.5763\n",
            "Epoch 5/50\n",
            "14/14 - 11s - loss: 0.6333 - acc: 0.6259 - val_loss: 0.7617 - val_acc: 0.5508\n",
            "Epoch 6/50\n",
            "14/14 - 11s - loss: 0.6655 - acc: 0.6094 - val_loss: 0.7719 - val_acc: 0.6271\n",
            "Epoch 7/50\n",
            "14/14 - 11s - loss: 0.6463 - acc: 0.6047 - val_loss: 0.7829 - val_acc: 0.5678\n",
            "Epoch 8/50\n",
            "14/14 - 11s - loss: 0.7724 - acc: 0.6071 - val_loss: 0.7102 - val_acc: 0.6017\n",
            "Epoch 9/50\n",
            "14/14 - 11s - loss: 0.6916 - acc: 0.6141 - val_loss: 0.7029 - val_acc: 0.4746\n",
            "Epoch 10/50\n",
            "14/14 - 11s - loss: 0.6477 - acc: 0.5624 - val_loss: 0.7249 - val_acc: 0.6102\n",
            "Epoch 11/50\n",
            "14/14 - 11s - loss: 0.7909 - acc: 0.6259 - val_loss: 0.7205 - val_acc: 0.6102\n",
            "Epoch 12/50\n",
            "14/14 - 11s - loss: 0.6586 - acc: 0.6282 - val_loss: 0.6889 - val_acc: 0.5847\n",
            "Epoch 13/50\n",
            "14/14 - 11s - loss: 0.8490 - acc: 0.6776 - val_loss: 0.6813 - val_acc: 0.5847\n",
            "Epoch 14/50\n",
            "14/14 - 11s - loss: 0.6223 - acc: 0.6800 - val_loss: 0.7350 - val_acc: 0.5593\n",
            "Epoch 15/50\n",
            "14/14 - 11s - loss: 0.6031 - acc: 0.6659 - val_loss: 0.7021 - val_acc: 0.6186\n",
            "Epoch 16/50\n",
            "14/14 - 11s - loss: 0.6208 - acc: 0.6447 - val_loss: 0.6953 - val_acc: 0.6102\n",
            "Epoch 17/50\n",
            "14/14 - 11s - loss: 0.6456 - acc: 0.6588 - val_loss: 0.6692 - val_acc: 0.6525\n",
            "Epoch 18/50\n",
            "14/14 - 11s - loss: 0.6192 - acc: 0.6259 - val_loss: 0.6976 - val_acc: 0.6102\n",
            "Epoch 19/50\n",
            "14/14 - 11s - loss: 0.6156 - acc: 0.6565 - val_loss: 0.6973 - val_acc: 0.5932\n",
            "Epoch 20/50\n",
            "14/14 - 11s - loss: 0.5767 - acc: 0.6776 - val_loss: 0.6298 - val_acc: 0.6356\n",
            "Epoch 21/50\n",
            "14/14 - 11s - loss: 0.6498 - acc: 0.6682 - val_loss: 0.6661 - val_acc: 0.6017\n",
            "Epoch 22/50\n",
            "14/14 - 11s - loss: 0.5857 - acc: 0.6894 - val_loss: 0.6369 - val_acc: 0.6356\n",
            "Epoch 23/50\n",
            "14/14 - 11s - loss: 0.6032 - acc: 0.6541 - val_loss: 0.6164 - val_acc: 0.6695\n",
            "Epoch 24/50\n",
            "14/14 - 11s - loss: 0.6152 - acc: 0.6847 - val_loss: 0.6347 - val_acc: 0.6186\n",
            "Epoch 25/50\n",
            "14/14 - 11s - loss: 0.5894 - acc: 0.6682 - val_loss: 0.6471 - val_acc: 0.6610\n",
            "Epoch 26/50\n",
            "14/14 - 11s - loss: 0.6196 - acc: 0.6659 - val_loss: 0.6580 - val_acc: 0.6102\n",
            "Epoch 27/50\n",
            "14/14 - 11s - loss: 0.5880 - acc: 0.6988 - val_loss: 0.6376 - val_acc: 0.6441\n",
            "Epoch 28/50\n",
            "14/14 - 11s - loss: 0.5951 - acc: 0.6988 - val_loss: 0.6278 - val_acc: 0.6695\n",
            "Epoch 29/50\n",
            "14/14 - 11s - loss: 0.6053 - acc: 0.6447 - val_loss: 0.5946 - val_acc: 0.6780\n",
            "Epoch 30/50\n",
            "14/14 - 11s - loss: 0.6174 - acc: 0.6941 - val_loss: 0.6429 - val_acc: 0.6864\n",
            "Epoch 31/50\n",
            "14/14 - 11s - loss: 0.6011 - acc: 0.6494 - val_loss: 0.6952 - val_acc: 0.6271\n",
            "Epoch 32/50\n",
            "14/14 - 11s - loss: 0.5701 - acc: 0.7035 - val_loss: 0.5927 - val_acc: 0.6610\n",
            "Epoch 33/50\n",
            "14/14 - 11s - loss: 0.5435 - acc: 0.7435 - val_loss: 0.5842 - val_acc: 0.6949\n",
            "Epoch 34/50\n",
            "14/14 - 11s - loss: 0.5826 - acc: 0.6824 - val_loss: 0.6268 - val_acc: 0.5932\n",
            "Epoch 35/50\n",
            "14/14 - 11s - loss: 0.5624 - acc: 0.6918 - val_loss: 0.5884 - val_acc: 0.6441\n",
            "Epoch 36/50\n",
            "14/14 - 11s - loss: 0.5866 - acc: 0.6541 - val_loss: 0.5868 - val_acc: 0.6356\n",
            "Epoch 37/50\n",
            "14/14 - 11s - loss: 0.5725 - acc: 0.7153 - val_loss: 0.5871 - val_acc: 0.6864\n",
            "Epoch 38/50\n",
            "14/14 - 11s - loss: 0.5485 - acc: 0.7200 - val_loss: 0.5941 - val_acc: 0.6780\n",
            "Epoch 39/50\n",
            "14/14 - 11s - loss: 0.5951 - acc: 0.6753 - val_loss: 0.6303 - val_acc: 0.6356\n",
            "Epoch 40/50\n",
            "14/14 - 12s - loss: 0.5516 - acc: 0.7153 - val_loss: 0.6864 - val_acc: 0.6271\n",
            "Epoch 41/50\n",
            "14/14 - 11s - loss: 0.5549 - acc: 0.7224 - val_loss: 0.5938 - val_acc: 0.6780\n",
            "Epoch 42/50\n",
            "14/14 - 11s - loss: 0.5267 - acc: 0.7365 - val_loss: 0.5549 - val_acc: 0.6864\n",
            "Epoch 43/50\n",
            "14/14 - 11s - loss: 0.5496 - acc: 0.7153 - val_loss: 0.5953 - val_acc: 0.6525\n",
            "Epoch 44/50\n",
            "14/14 - 11s - loss: 0.5907 - acc: 0.7224 - val_loss: 0.6036 - val_acc: 0.6441\n",
            "Epoch 45/50\n",
            "14/14 - 11s - loss: 0.5637 - acc: 0.6871 - val_loss: 0.6030 - val_acc: 0.6186\n",
            "Epoch 46/50\n",
            "14/14 - 11s - loss: 0.5332 - acc: 0.7341 - val_loss: 0.6236 - val_acc: 0.6610\n",
            "Epoch 47/50\n",
            "14/14 - 11s - loss: 0.5546 - acc: 0.7294 - val_loss: 0.5847 - val_acc: 0.6610\n",
            "Epoch 48/50\n",
            "14/14 - 11s - loss: 0.5718 - acc: 0.7106 - val_loss: 0.6374 - val_acc: 0.6610\n",
            "Epoch 49/50\n",
            "14/14 - 11s - loss: 0.5512 - acc: 0.7224 - val_loss: 0.5533 - val_acc: 0.6780\n",
            "Epoch 50/50\n",
            "14/14 - 11s - loss: 0.5218 - acc: 0.7388 - val_loss: 0.5515 - val_acc: 0.6949\n"
          ],
          "name": "stdout"
        }
      ]
    },
    {
      "cell_type": "code",
      "metadata": {
        "id": "qFazO2WeIDKQ",
        "colab_type": "code",
        "colab": {
          "base_uri": "https://localhost:8080/",
          "height": 545
        },
        "outputId": "e195088b-d949-4d04-c592-e25a254534f7"
      },
      "source": [
        "import matplotlib.pyplot as plt\n",
        "acc = history.history['acc']\n",
        "val_acc = history.history['val_acc']\n",
        "loss = history.history['loss']\n",
        "val_loss = history.history['val_loss']\n",
        "\n",
        "epochs = range(len(acc))\n",
        "\n",
        "plt.plot(epochs, acc, 'r', label='Training accuracy')\n",
        "plt.plot(epochs, val_acc, 'b', label='Validation accuracy')\n",
        "plt.title('Training and validation accuracy')\n",
        "\n",
        "plt.figure()\n",
        "\n",
        "plt.plot(epochs, loss, 'r', label='Training Loss')\n",
        "plt.plot(epochs, val_loss, 'b', label='Validation Loss')\n",
        "plt.title('Training and validation loss')\n",
        "plt.legend()\n",
        "\n",
        "plt.show()"
      ],
      "execution_count": 76,
      "outputs": [
        {
          "output_type": "display_data",
          "data": {
            "image/png": "[encoded data removed]",
            "text/plain": [
              "<Figure size 432x288 with 1 Axes>"
            ]
          },
          "metadata": {
            "tags": [],
            "needs_background": "light"
          }
        },
        {
          "output_type": "display_data",
          "data": {
            "image/png": "[encoded data removed]",
            "text/plain": [
              "<Figure size 432x288 with 1 Axes>"
            ]
          },
          "metadata": {
            "tags": [],
            "needs_background": "light"
          }
        }
      ]
    },
    {
      "cell_type": "code",
      "metadata": {
        "id": "e6J7jIouKtJY",
        "colab_type": "code",
        "colab": {
          "base_uri": "https://localhost:8080/",
          "height": 88
        },
        "outputId": "3bb34551-266e-4a5f-ee8c-dcaf00dc2cec"
      },
      "source": [
        "y_pred = model.predict_classes(test_generator)\n",
        "y_pred = np.argmax(y_pred,axis=1)\n",
        "y_true = test_generator.classes"
      ],
      "execution_count": 81,
      "outputs": [
        {
          "output_type": "stream",
          "text": [
            "WARNING:tensorflow:From <ipython-input-81-4eec210b9723>:1: Sequential.predict_classes (from tensorflow.python.keras.engine.sequential) is deprecated and will be removed after 2021-01-01.\n",
            "Instructions for updating:\n",
            "Please use instead:* `np.argmax(model.predict(x), axis=-1)`,   if your model does multi-class classification   (e.g. if it uses a `softmax` last-layer activation).* `(model.predict(x) > 0.5).astype(\"int32\")`,   if your model does binary classification   (e.g. if it uses a `sigmoid` last-layer activation).\n"
          ],
          "name": "stdout"
        }
      ]
    },
    {
      "cell_type": "code",
      "metadata": {
        "id": "K-fuKJO6Mjqp",
        "colab_type": "code",
        "colab": {
          "base_uri": "https://localhost:8080/",
          "height": 224
        },
        "outputId": "faeebf4c-eeb3-4c3a-938a-bbd01f3a90b5"
      },
      "source": [
        "from sklearn.metrics import classification_report\n",
        "print(classification_report(y_true,y_pred))"
      ],
      "execution_count": 82,
      "outputs": [
        {
          "output_type": "stream",
          "text": [
            "              precision    recall  f1-score   support\n",
            "\n",
            "           0       0.48      1.00      0.65        98\n",
            "           1       0.00      0.00      0.00       105\n",
            "\n",
            "    accuracy                           0.48       203\n",
            "   macro avg       0.24      0.50      0.33       203\n",
            "weighted avg       0.23      0.48      0.31       203\n",
            "\n"
          ],
          "name": "stdout"
        },
        {
          "output_type": "stream",
          "text": [
            "/usr/local/lib/python3.6/dist-packages/sklearn/metrics/_classification.py:1272: UndefinedMetricWarning: Precision and F-score are ill-defined and being set to 0.0 in labels with no predicted samples. Use `zero_division` parameter to control this behavior.\n",
            "  _warn_prf(average, modifier, msg_start, len(result))\n"
          ],
          "name": "stderr"
        }
      ]
    }
  ]
}