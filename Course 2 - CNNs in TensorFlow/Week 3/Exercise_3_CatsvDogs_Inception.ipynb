{
  "nbformat": 4,
  "nbformat_minor": 0,
  "metadata": {
    "accelerator": "GPU",
    "colab": {
      "name": "Course 2 - Part 6 - Lesson 3 - Notebook.ipynb",
      "provenance": [],
      "collapsed_sections": [],
      "toc_visible": true
    },
    "kernelspec": {
      "display_name": "Python 3",
      "name": "python3"
    }
  },
  "cells": [
    {
      "cell_type": "code",
      "metadata": {
        "colab_type": "code",
        "id": "1xJZ5glPPCRz",
        "colab": {
          "base_uri": "https://localhost:8080/",
          "height": 221
        },
        "outputId": "747ffe84-9165-4fc2-ab89-eaede0de6afe"
      },
      "source": [
        "import os\n",
        "\n",
        "from tensorflow.keras import layers\n",
        "from tensorflow.keras import Model\n",
        "!wget --no-check-certificate \\\n",
        "    https://storage.googleapis.com/mledu-datasets/inception_v3_weights_tf_dim_ordering_tf_kernels_notop.h5 \\\n",
        "    -O /tmp/inception_v3_weights_tf_dim_ordering_tf_kernels_notop.h5\n",
        "  \n",
        "from tensorflow.keras.applications.inception_v3 import InceptionV3\n",
        "\n",
        "local_weights_file = '/tmp/inception_v3_weights_tf_dim_ordering_tf_kernels_notop.h5'\n",
        "\n",
        "pre_trained_model = InceptionV3(input_shape = (150, 150, 3), \n",
        "                                include_top = False, \n",
        "                                weights = None)\n",
        "\n",
        "pre_trained_model.load_weights(local_weights_file)\n",
        "\n",
        "for layer in pre_trained_model.layers:\n",
        "  layer.trainable = False\n",
        "  \n",
        "# pre_trained_model.summary()\n",
        "\n",
        "last_layer = pre_trained_model.get_layer('mixed7')\n",
        "print('last layer output shape: ', last_layer.output_shape)\n",
        "last_output = last_layer.output"
      ],
      "execution_count": 1,
      "outputs": [
        {
          "output_type": "stream",
          "text": [
            "--2020-06-23 16:55:02--  https://storage.googleapis.com/mledu-datasets/inception_v3_weights_tf_dim_ordering_tf_kernels_notop.h5\n",
            "Resolving storage.googleapis.com (storage.googleapis.com)... 172.217.214.128, 2607:f8b0:4001:c1f::80\n",
            "Connecting to storage.googleapis.com (storage.googleapis.com)|172.217.214.128|:443... connected.\n",
            "HTTP request sent, awaiting response... 200 OK\n",
            "Length: 87910968 (84M) [application/x-hdf]\n",
            "Saving to: ‘/tmp/inception_v3_weights_tf_dim_ordering_tf_kernels_notop.h5’\n",
            "\n",
            "\r          /tmp/ince   0%[                    ]       0  --.-KB/s               \r         /tmp/incep   4%[                    ]   4.01M  18.8MB/s               \r        /tmp/incept  59%[==========>         ]  49.71M   120MB/s               \r       /tmp/incepti  95%[==================> ]  80.36M   131MB/s               \r/tmp/inception_v3_w 100%[===================>]  83.84M   135MB/s    in 0.6s    \n",
            "\n",
            "2020-06-23 16:55:03 (135 MB/s) - ‘/tmp/inception_v3_weights_tf_dim_ordering_tf_kernels_notop.h5’ saved [87910968/87910968]\n",
            "\n",
            "last layer output shape:  (None, 7, 7, 768)\n"
          ],
          "name": "stdout"
        }
      ]
    },
    {
      "cell_type": "code",
      "metadata": {
        "colab_type": "code",
        "id": "BMXb913pbvFg",
        "colab": {}
      },
      "source": [
        "from tensorflow.keras.optimizers import RMSprop\n",
        "\n",
        "# Flatten the output layer to 1 dimension\n",
        "x = layers.Flatten()(last_output)\n",
        "# Add a fully connected layer with 1,024 hidden units and ReLU activation\n",
        "x = layers.Dense(1024, activation='relu')(x)\n",
        "# Add a dropout rate of 0.2\n",
        "x = layers.Dropout(0.2)(x)                  \n",
        "# Add a final sigmoid layer for classification\n",
        "x = layers.Dense  (1, activation='sigmoid')(x)           \n",
        "\n",
        "model = Model( pre_trained_model.input, x) \n",
        "\n",
        "model.compile(optimizer = RMSprop(lr=0.0001), \n",
        "              loss = 'binary_crossentropy', \n",
        "              metrics = ['accuracy'])\n"
      ],
      "execution_count": 2,
      "outputs": []
    },
    {
      "cell_type": "code",
      "metadata": {
        "colab_type": "code",
        "id": "O4s8HckqGlnb",
        "colab": {
          "base_uri": "https://localhost:8080/",
          "height": 258
        },
        "outputId": "b45d7b5f-07c9-4a17-87e7-6182414e89dc"
      },
      "source": [
        "!wget --no-check-certificate \\\n",
        "        https://storage.googleapis.com/mledu-datasets/cats_and_dogs_filtered.zip \\\n",
        "       -O /tmp/cats_and_dogs_filtered.zip\n",
        "\n",
        "from tensorflow.keras.preprocessing.image import ImageDataGenerator\n",
        "\n",
        "import os\n",
        "import zipfile\n",
        "\n",
        "local_zip = '//tmp/cats_and_dogs_filtered.zip'\n",
        "\n",
        "zip_ref = zipfile.ZipFile(local_zip, 'r')\n",
        "\n",
        "zip_ref.extractall('/tmp')\n",
        "zip_ref.close()\n",
        "\n",
        "# Define our example directories and files\n",
        "base_dir = '/tmp/cats_and_dogs_filtered'\n",
        "\n",
        "train_dir = os.path.join( base_dir, 'train')\n",
        "validation_dir = os.path.join( base_dir, 'validation')\n",
        "\n",
        "\n",
        "train_cats_dir = os.path.join(train_dir, 'cats') # Directory with our training cat pictures\n",
        "train_dogs_dir = os.path.join(train_dir, 'dogs') # Directory with our training dog pictures\n",
        "validation_cats_dir = os.path.join(validation_dir, 'cats') # Directory with our validation cat pictures\n",
        "validation_dogs_dir = os.path.join(validation_dir, 'dogs')# Directory with our validation dog pictures\n",
        "\n",
        "train_cat_fnames = os.listdir(train_cats_dir)\n",
        "train_dog_fnames = os.listdir(train_dogs_dir)\n",
        "\n",
        "# Add our data-augmentation parameters to ImageDataGenerator\n",
        "train_datagen = ImageDataGenerator(rescale = 1./255.,\n",
        "                                   rotation_range = 40,\n",
        "                                   width_shift_range = 0.2,\n",
        "                                   height_shift_range = 0.2,\n",
        "                                   shear_range = 0.2,\n",
        "                                   zoom_range = 0.2,\n",
        "                                   horizontal_flip = True)\n",
        "\n",
        "# Note that the validation data should not be augmented!\n",
        "test_datagen = ImageDataGenerator( rescale = 1.0/255. )\n",
        "\n",
        "# Flow training images in batches of 20 using train_datagen generator\n",
        "train_generator = train_datagen.flow_from_directory(train_dir,\n",
        "                                                    batch_size = 20,\n",
        "                                                    class_mode = 'binary', \n",
        "                                                    target_size = (150, 150))     \n",
        "\n",
        "# Flow validation images in batches of 20 using test_datagen generator\n",
        "validation_generator =  test_datagen.flow_from_directory( validation_dir,\n",
        "                                                          batch_size  = 20,\n",
        "                                                          class_mode  = 'binary', \n",
        "                                                          target_size = (150, 150))"
      ],
      "execution_count": 3,
      "outputs": [
        {
          "output_type": "stream",
          "text": [
            "--2020-06-23 16:55:24--  https://storage.googleapis.com/mledu-datasets/cats_and_dogs_filtered.zip\n",
            "Resolving storage.googleapis.com (storage.googleapis.com)... 172.217.214.128, 2607:f8b0:4001:c03::80\n",
            "Connecting to storage.googleapis.com (storage.googleapis.com)|172.217.214.128|:443... connected.\n",
            "HTTP request sent, awaiting response... 200 OK\n",
            "Length: 68606236 (65M) [application/zip]\n",
            "Saving to: ‘/tmp/cats_and_dogs_filtered.zip’\n",
            "\n",
            "\r          /tmp/cats   0%[                    ]       0  --.-KB/s               \r         /tmp/cats_  12%[=>                  ]   8.01M  34.9MB/s               \r        /tmp/cats_a  45%[========>           ]  29.68M  69.1MB/s               \r       /tmp/cats_an  85%[================>   ]  55.85M  88.7MB/s               \r/tmp/cats_and_dogs_ 100%[===================>]  65.43M  99.4MB/s    in 0.7s    \n",
            "\n",
            "2020-06-23 16:55:25 (99.4 MB/s) - ‘/tmp/cats_and_dogs_filtered.zip’ saved [68606236/68606236]\n",
            "\n",
            "Found 2000 images belonging to 2 classes.\n",
            "Found 1000 images belonging to 2 classes.\n"
          ],
          "name": "stdout"
        }
      ]
    },
    {
      "cell_type": "code",
      "metadata": {
        "colab_type": "code",
        "id": "Blhq2MAUeyGA",
        "colab": {
          "base_uri": "https://localhost:8080/",
          "height": 717
        },
        "outputId": "fde13d70-98ae-42f5-e7b2-561a97fd7905"
      },
      "source": [
        "history = model.fit(\n",
        "            train_generator,\n",
        "            validation_data = validation_generator,\n",
        "            steps_per_epoch = 100,\n",
        "            epochs = 20,\n",
        "            validation_steps = 50,\n",
        "            verbose = 2)"
      ],
      "execution_count": 4,
      "outputs": [
        {
          "output_type": "stream",
          "text": [
            "Epoch 1/20\n",
            "100/100 - 24s - loss: 0.3159 - accuracy: 0.8715 - val_loss: 0.1134 - val_accuracy: 0.9610\n",
            "Epoch 2/20\n",
            "100/100 - 22s - loss: 0.2489 - accuracy: 0.9045 - val_loss: 0.1769 - val_accuracy: 0.9280\n",
            "Epoch 3/20\n",
            "100/100 - 23s - loss: 0.1993 - accuracy: 0.9285 - val_loss: 0.0928 - val_accuracy: 0.9680\n",
            "Epoch 4/20\n",
            "100/100 - 22s - loss: 0.2184 - accuracy: 0.9215 - val_loss: 0.0866 - val_accuracy: 0.9650\n",
            "Epoch 5/20\n",
            "100/100 - 23s - loss: 0.1799 - accuracy: 0.9370 - val_loss: 0.2191 - val_accuracy: 0.9380\n",
            "Epoch 6/20\n",
            "100/100 - 22s - loss: 0.1854 - accuracy: 0.9390 - val_loss: 0.1139 - val_accuracy: 0.9680\n",
            "Epoch 7/20\n",
            "100/100 - 23s - loss: 0.1657 - accuracy: 0.9430 - val_loss: 0.1616 - val_accuracy: 0.9440\n",
            "Epoch 8/20\n",
            "100/100 - 23s - loss: 0.1470 - accuracy: 0.9430 - val_loss: 0.1700 - val_accuracy: 0.9480\n",
            "Epoch 9/20\n",
            "100/100 - 23s - loss: 0.1675 - accuracy: 0.9480 - val_loss: 0.1022 - val_accuracy: 0.9690\n",
            "Epoch 10/20\n",
            "100/100 - 23s - loss: 0.1473 - accuracy: 0.9535 - val_loss: 0.0936 - val_accuracy: 0.9720\n",
            "Epoch 11/20\n",
            "100/100 - 23s - loss: 0.1393 - accuracy: 0.9520 - val_loss: 0.1325 - val_accuracy: 0.9660\n",
            "Epoch 12/20\n",
            "100/100 - 23s - loss: 0.1309 - accuracy: 0.9520 - val_loss: 0.1130 - val_accuracy: 0.9660\n",
            "Epoch 13/20\n",
            "100/100 - 23s - loss: 0.1767 - accuracy: 0.9420 - val_loss: 0.1248 - val_accuracy: 0.9630\n",
            "Epoch 14/20\n",
            "100/100 - 23s - loss: 0.1550 - accuracy: 0.9480 - val_loss: 0.1201 - val_accuracy: 0.9650\n",
            "Epoch 15/20\n",
            "100/100 - 23s - loss: 0.1569 - accuracy: 0.9460 - val_loss: 0.1107 - val_accuracy: 0.9680\n",
            "Epoch 16/20\n",
            "100/100 - 23s - loss: 0.1293 - accuracy: 0.9560 - val_loss: 0.1247 - val_accuracy: 0.9670\n",
            "Epoch 17/20\n",
            "100/100 - 23s - loss: 0.1253 - accuracy: 0.9640 - val_loss: 0.1476 - val_accuracy: 0.9620\n",
            "Epoch 18/20\n",
            "100/100 - 23s - loss: 0.1397 - accuracy: 0.9585 - val_loss: 0.1007 - val_accuracy: 0.9680\n",
            "Epoch 19/20\n",
            "100/100 - 22s - loss: 0.1416 - accuracy: 0.9520 - val_loss: 0.1140 - val_accuracy: 0.9710\n",
            "Epoch 20/20\n",
            "100/100 - 22s - loss: 0.0984 - accuracy: 0.9625 - val_loss: 0.1470 - val_accuracy: 0.9590\n"
          ],
          "name": "stdout"
        }
      ]
    },
    {
      "cell_type": "code",
      "metadata": {
        "colab_type": "code",
        "id": "C2Fp6Se9rKuL",
        "colab": {
          "base_uri": "https://localhost:8080/",
          "height": 298
        },
        "outputId": "72409136-6cb0-435e-9e52-454c6ae006fd"
      },
      "source": [
        "import matplotlib.pyplot as plt\n",
        "acc = history.history['accuracy']\n",
        "val_acc = history.history['val_accuracy']\n",
        "loss = history.history['loss']\n",
        "val_loss = history.history['val_loss']\n",
        "\n",
        "epochs = range(len(acc))\n",
        "\n",
        "plt.plot(epochs, acc, 'r', label='Training accuracy')\n",
        "plt.plot(epochs, val_acc, 'b', label='Validation accuracy')\n",
        "plt.title('Training and validation accuracy')\n",
        "plt.legend(loc=0)\n",
        "plt.figure()\n",
        "\n",
        "\n",
        "plt.show()"
      ],
      "execution_count": 5,
      "outputs": [
        {
          "output_type": "display_data",
          "data": {
            "image/png": "[encoded data removed]",
            "text/plain": [
              "<Figure size 432x288 with 1 Axes>"
            ]
          },
          "metadata": {
            "tags": [],
            "needs_background": "light"
          }
        },
        {
          "output_type": "display_data",
          "data": {
            "text/plain": [
              "<Figure size 432x288 with 0 Axes>"
            ]
          },
          "metadata": {
            "tags": []
          }
        }
      ]
    }
  ]
}