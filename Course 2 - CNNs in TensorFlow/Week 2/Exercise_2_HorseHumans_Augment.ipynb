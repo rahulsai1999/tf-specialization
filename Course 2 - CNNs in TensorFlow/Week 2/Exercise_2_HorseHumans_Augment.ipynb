{
  "nbformat": 4,
  "nbformat_minor": 0,
  "metadata": {
    "accelerator": "GPU",
    "colab": {
      "name": "Course 2 - Part 4 - Lesson 4 - Notebook.ipynb",
      "provenance": [],
      "collapsed_sections": [],
      "toc_visible": true
    },
    "kernelspec": {
      "display_name": "Python 3",
      "name": "python3"
    }
  },
  "cells": [
    {
      "cell_type": "code",
      "metadata": {
        "colab_type": "code",
        "id": "RXZT2UsyIVe_",
        "colab": {
          "base_uri": "https://localhost:8080/",
          "height": 391
        },
        "outputId": "29b10f6b-fcdf-490b-b81d-bbe7526190d7"
      },
      "source": [
        "!wget --no-check-certificate \\\n",
        "    https://storage.googleapis.com/laurencemoroney-blog.appspot.com/horse-or-human.zip \\\n",
        "    -O /tmp/horse-or-human.zip\n",
        "\n",
        "!wget --no-check-certificate \\\n",
        "    https://storage.googleapis.com/laurencemoroney-blog.appspot.com/validation-horse-or-human.zip \\\n",
        "    -O /tmp/validation-horse-or-human.zip\n",
        "  \n",
        "import os\n",
        "import zipfile\n",
        "\n",
        "local_zip = '/tmp/horse-or-human.zip'\n",
        "zip_ref = zipfile.ZipFile(local_zip, 'r')\n",
        "zip_ref.extractall('/tmp/horse-or-human')\n",
        "local_zip = '/tmp/validation-horse-or-human.zip'\n",
        "zip_ref = zipfile.ZipFile(local_zip, 'r')\n",
        "zip_ref.extractall('/tmp/validation-horse-or-human')\n",
        "zip_ref.close()\n",
        "# Directory with our training horse pictures\n",
        "train_horse_dir = os.path.join('/tmp/horse-or-human/horses')\n",
        "\n",
        "# Directory with our training human pictures\n",
        "train_human_dir = os.path.join('/tmp/horse-or-human/humans')\n",
        "\n",
        "# Directory with our training horse pictures\n",
        "validation_horse_dir = os.path.join('/tmp/validation-horse-or-human/horses')\n",
        "\n",
        "# Directory with our training human pictures\n",
        "validation_human_dir = os.path.join('/tmp/validation-horse-or-human/humans')"
      ],
      "execution_count": 1,
      "outputs": [
        {
          "output_type": "stream",
          "text": [
            "--2020-06-23 14:01:07--  https://storage.googleapis.com/laurencemoroney-blog.appspot.com/horse-or-human.zip\n",
            "Resolving storage.googleapis.com (storage.googleapis.com)... 173.194.195.128, 2607:f8b0:4001:c03::80\n",
            "Connecting to storage.googleapis.com (storage.googleapis.com)|173.194.195.128|:443... connected.\n",
            "HTTP request sent, awaiting response... 200 OK\n",
            "Length: 149574867 (143M) [application/zip]\n",
            "Saving to: ‘/tmp/horse-or-human.zip’\n",
            "\n",
            "\r/tmp/horse-or-human   0%[                    ]       0  --.-KB/s               \r/tmp/horse-or-human   7%[>                   ]  10.46M  52.3MB/s               \r/tmp/horse-or-human  22%[===>                ]  32.12M  80.3MB/s               \r/tmp/horse-or-human  45%[========>           ]  65.50M   109MB/s               \r/tmp/horse-or-human  62%[===========>        ]  89.73M   112MB/s               \r/tmp/horse-or-human  87%[================>   ] 124.77M   125MB/s               \r/tmp/horse-or-human 100%[===================>] 142.65M   127MB/s    in 1.1s    \n",
            "\n",
            "2020-06-23 14:01:09 (127 MB/s) - ‘/tmp/horse-or-human.zip’ saved [149574867/149574867]\n",
            "\n",
            "--2020-06-23 14:01:13--  https://storage.googleapis.com/laurencemoroney-blog.appspot.com/validation-horse-or-human.zip\n",
            "Resolving storage.googleapis.com (storage.googleapis.com)... 172.217.212.128, 2607:f8b0:4001:c03::80\n",
            "Connecting to storage.googleapis.com (storage.googleapis.com)|172.217.212.128|:443... connected.\n",
            "HTTP request sent, awaiting response... 200 OK\n",
            "Length: 11480187 (11M) [application/zip]\n",
            "Saving to: ‘/tmp/validation-horse-or-human.zip’\n",
            "\n",
            "/tmp/validation-hor 100%[===================>]  10.95M  48.2MB/s    in 0.2s    \n",
            "\n",
            "2020-06-23 14:01:13 (48.2 MB/s) - ‘/tmp/validation-horse-or-human.zip’ saved [11480187/11480187]\n",
            "\n"
          ],
          "name": "stdout"
        }
      ]
    },
    {
      "cell_type": "markdown",
      "metadata": {
        "colab_type": "text",
        "id": "5oqBkNBJmtUv"
      },
      "source": [
        "## Building a Small Model from Scratch\n",
        "\n",
        "But before we continue, let's start defining the model:\n",
        "\n",
        "Step 1 will be to import tensorflow."
      ]
    },
    {
      "cell_type": "code",
      "metadata": {
        "colab_type": "code",
        "id": "qvfZg3LQbD-5",
        "colab": {}
      },
      "source": [
        "import tensorflow as tf"
      ],
      "execution_count": 2,
      "outputs": []
    },
    {
      "cell_type": "markdown",
      "metadata": {
        "colab_type": "text",
        "id": "BnhYCP4tdqjC"
      },
      "source": [
        "We then add convolutional layers as in the previous example, and flatten the final result to feed into the densely connected layers."
      ]
    },
    {
      "cell_type": "markdown",
      "metadata": {
        "colab_type": "text",
        "id": "gokG5HKpdtzm"
      },
      "source": [
        "Finally we add the densely connected layers. \n",
        "\n",
        "Note that because we are facing a two-class classification problem, i.e. a *binary classification problem*, we will end our network with a [*sigmoid* activation](https://wikipedia.org/wiki/Sigmoid_function), so that the output of our network will be a single scalar between 0 and 1, encoding the probability that the current image is class 1 (as opposed to class 0)."
      ]
    },
    {
      "cell_type": "code",
      "metadata": {
        "colab_type": "code",
        "id": "PixZ2s5QbYQ3",
        "colab": {}
      },
      "source": [
        "model = tf.keras.models.Sequential([\n",
        "    # Note the input shape is the desired size of the image 300x300 with 3 bytes color\n",
        "    # This is the first convolution\n",
        "    tf.keras.layers.Conv2D(16, (3,3), activation='relu', input_shape=(300, 300, 3)),\n",
        "    tf.keras.layers.MaxPooling2D(2, 2),\n",
        "    # The second convolution\n",
        "    tf.keras.layers.Conv2D(32, (3,3), activation='relu'),\n",
        "    tf.keras.layers.MaxPooling2D(2,2),\n",
        "    # The third convolution\n",
        "    tf.keras.layers.Conv2D(64, (3,3), activation='relu'),\n",
        "    tf.keras.layers.MaxPooling2D(2,2),\n",
        "    # The fourth convolution\n",
        "    tf.keras.layers.Conv2D(64, (3,3), activation='relu'),\n",
        "    tf.keras.layers.MaxPooling2D(2,2),\n",
        "    # The fifth convolution\n",
        "    tf.keras.layers.Conv2D(64, (3,3), activation='relu'),\n",
        "    tf.keras.layers.MaxPooling2D(2,2),\n",
        "    # Flatten the results to feed into a DNN\n",
        "    tf.keras.layers.Flatten(),\n",
        "    # 512 neuron hidden layer\n",
        "    tf.keras.layers.Dense(512, activation='relu'),\n",
        "    # Only 1 output neuron. It will contain a value from 0-1 where 0 for 1 class ('horses') and 1 for the other ('humans')\n",
        "    tf.keras.layers.Dense(1, activation='sigmoid')\n",
        "])"
      ],
      "execution_count": 3,
      "outputs": []
    },
    {
      "cell_type": "code",
      "metadata": {
        "colab_type": "code",
        "id": "8DHWhFP_uhq3",
        "colab": {}
      },
      "source": [
        "from tensorflow.keras.optimizers import RMSprop\n",
        "\n",
        "model.compile(loss='binary_crossentropy',\n",
        "              optimizer=RMSprop(lr=1e-4),\n",
        "              metrics=['accuracy'])"
      ],
      "execution_count": 4,
      "outputs": []
    },
    {
      "cell_type": "code",
      "metadata": {
        "colab_type": "code",
        "id": "ClebU9NJg99G",
        "colab": {
          "base_uri": "https://localhost:8080/",
          "height": 51
        },
        "outputId": "a6c5199b-8c63-43f4-b7f2-aa821617b562"
      },
      "source": [
        "from tensorflow.keras.preprocessing.image import ImageDataGenerator\n",
        "\n",
        "# All images will be rescaled by 1./255\n",
        "train_datagen = ImageDataGenerator(\n",
        "      rescale=1./255,\n",
        "      rotation_range=40,\n",
        "      width_shift_range=0.2,\n",
        "      height_shift_range=0.2,\n",
        "      shear_range=0.2,\n",
        "      zoom_range=0.2,\n",
        "      horizontal_flip=True,\n",
        "      fill_mode='nearest')\n",
        "\n",
        "validation_datagen = ImageDataGenerator(rescale=1/255)\n",
        "\n",
        "# Flow training images in batches of 128 using train_datagen generator\n",
        "train_generator = train_datagen.flow_from_directory(\n",
        "        '/tmp/horse-or-human/',  # This is the source directory for training images\n",
        "        target_size=(300, 300),  # All images will be resized to 150x150\n",
        "        batch_size=128,\n",
        "        # Since we use binary_crossentropy loss, we need binary labels\n",
        "        class_mode='binary')\n",
        "\n",
        "# Flow training images in batches of 128 using train_datagen generator\n",
        "validation_generator = validation_datagen.flow_from_directory(\n",
        "        '/tmp/validation-horse-or-human/',  # This is the source directory for training images\n",
        "        target_size=(300, 300),  # All images will be resized to 150x150\n",
        "        batch_size=32,\n",
        "        # Since we use binary_crossentropy loss, we need binary labels\n",
        "        class_mode='binary')"
      ],
      "execution_count": 5,
      "outputs": [
        {
          "output_type": "stream",
          "text": [
            "Found 1027 images belonging to 2 classes.\n",
            "Found 256 images belonging to 2 classes.\n"
          ],
          "name": "stdout"
        }
      ]
    },
    {
      "cell_type": "code",
      "metadata": {
        "colab_type": "code",
        "id": "Fb1_lgobv81m",
        "colab": {
          "base_uri": "https://localhost:8080/",
          "height": 1000
        },
        "outputId": "67653d17-9cee-4c1b-f444-bc21bd4de7be"
      },
      "source": [
        "history = model.fit(\n",
        "      train_generator,\n",
        "      steps_per_epoch=8,  \n",
        "      epochs=100,\n",
        "      verbose=1,\n",
        "      validation_data = validation_generator,\n",
        "      validation_steps=8)"
      ],
      "execution_count": 6,
      "outputs": [
        {
          "output_type": "stream",
          "text": [
            "Epoch 1/100\n",
            "8/8 [==============================] - 20s 2s/step - loss: 0.6921 - accuracy: 0.4772 - val_loss: 0.6927 - val_accuracy: 0.5000\n",
            "Epoch 2/100\n",
            "8/8 [==============================] - 24s 3s/step - loss: 0.6686 - accuracy: 0.5606 - val_loss: 0.6681 - val_accuracy: 0.5352\n",
            "Epoch 3/100\n",
            "8/8 [==============================] - 22s 3s/step - loss: 0.6376 - accuracy: 0.6974 - val_loss: 0.6258 - val_accuracy: 0.6562\n",
            "Epoch 4/100\n",
            "8/8 [==============================] - 23s 3s/step - loss: 0.6086 - accuracy: 0.6908 - val_loss: 0.7608 - val_accuracy: 0.5000\n",
            "Epoch 5/100\n",
            "8/8 [==============================] - 22s 3s/step - loss: 0.5391 - accuracy: 0.7597 - val_loss: 0.7186 - val_accuracy: 0.5586\n",
            "Epoch 6/100\n",
            "8/8 [==============================] - 24s 3s/step - loss: 0.5138 - accuracy: 0.7442 - val_loss: 0.8892 - val_accuracy: 0.5156\n",
            "Epoch 7/100\n",
            "8/8 [==============================] - 21s 3s/step - loss: 0.4883 - accuracy: 0.7631 - val_loss: 0.6993 - val_accuracy: 0.5977\n",
            "Epoch 8/100\n",
            "8/8 [==============================] - 21s 3s/step - loss: 0.4955 - accuracy: 0.7642 - val_loss: 1.0322 - val_accuracy: 0.5391\n",
            "Epoch 9/100\n",
            "8/8 [==============================] - 21s 3s/step - loss: 0.4620 - accuracy: 0.7864 - val_loss: 1.0865 - val_accuracy: 0.5312\n",
            "Epoch 10/100\n",
            "8/8 [==============================] - 24s 3s/step - loss: 0.4285 - accuracy: 0.8065 - val_loss: 1.0306 - val_accuracy: 0.5586\n",
            "Epoch 11/100\n",
            "8/8 [==============================] - 21s 3s/step - loss: 0.4768 - accuracy: 0.7842 - val_loss: 1.0952 - val_accuracy: 0.5547\n",
            "Epoch 12/100\n",
            "8/8 [==============================] - 21s 3s/step - loss: 0.4158 - accuracy: 0.8020 - val_loss: 1.7622 - val_accuracy: 0.5078\n",
            "Epoch 13/100\n",
            "8/8 [==============================] - 21s 3s/step - loss: 0.4262 - accuracy: 0.8020 - val_loss: 1.2328 - val_accuracy: 0.5781\n",
            "Epoch 14/100\n",
            "8/8 [==============================] - 21s 3s/step - loss: 0.3809 - accuracy: 0.8276 - val_loss: 2.0813 - val_accuracy: 0.5078\n",
            "Epoch 15/100\n",
            "8/8 [==============================] - 21s 3s/step - loss: 0.4209 - accuracy: 0.8076 - val_loss: 1.7406 - val_accuracy: 0.5234\n",
            "Epoch 16/100\n",
            "8/8 [==============================] - 24s 3s/step - loss: 0.3907 - accuracy: 0.8276 - val_loss: 1.8241 - val_accuracy: 0.5234\n",
            "Epoch 17/100\n",
            "8/8 [==============================] - 21s 3s/step - loss: 0.3917 - accuracy: 0.8187 - val_loss: 1.1591 - val_accuracy: 0.5938\n",
            "Epoch 18/100\n",
            "8/8 [==============================] - 21s 3s/step - loss: 0.3621 - accuracy: 0.8331 - val_loss: 1.7033 - val_accuracy: 0.5508\n",
            "Epoch 19/100\n",
            "8/8 [==============================] - 21s 3s/step - loss: 0.4641 - accuracy: 0.7853 - val_loss: 1.5957 - val_accuracy: 0.5508\n",
            "Epoch 20/100\n",
            "8/8 [==============================] - 23s 3s/step - loss: 0.3212 - accuracy: 0.8654 - val_loss: 1.8345 - val_accuracy: 0.5508\n",
            "Epoch 21/100\n",
            "8/8 [==============================] - 23s 3s/step - loss: 0.4005 - accuracy: 0.8254 - val_loss: 1.6949 - val_accuracy: 0.5625\n",
            "Epoch 22/100\n",
            "8/8 [==============================] - 21s 3s/step - loss: 0.3104 - accuracy: 0.8654 - val_loss: 2.1486 - val_accuracy: 0.5430\n",
            "Epoch 23/100\n",
            "8/8 [==============================] - 20s 3s/step - loss: 0.3333 - accuracy: 0.8643 - val_loss: 2.0394 - val_accuracy: 0.5547\n",
            "Epoch 24/100\n",
            "8/8 [==============================] - 20s 3s/step - loss: 0.3504 - accuracy: 0.8487 - val_loss: 2.1492 - val_accuracy: 0.5312\n",
            "Epoch 25/100\n",
            "8/8 [==============================] - 21s 3s/step - loss: 0.3416 - accuracy: 0.8554 - val_loss: 1.9780 - val_accuracy: 0.5469\n",
            "Epoch 26/100\n",
            "8/8 [==============================] - 21s 3s/step - loss: 0.3450 - accuracy: 0.8454 - val_loss: 1.6725 - val_accuracy: 0.5703\n",
            "Epoch 27/100\n",
            "8/8 [==============================] - 24s 3s/step - loss: 0.3005 - accuracy: 0.8711 - val_loss: 2.1848 - val_accuracy: 0.5430\n",
            "Epoch 28/100\n",
            "8/8 [==============================] - 21s 3s/step - loss: 0.3380 - accuracy: 0.8576 - val_loss: 1.4911 - val_accuracy: 0.6016\n",
            "Epoch 29/100\n",
            "8/8 [==============================] - 20s 3s/step - loss: 0.3318 - accuracy: 0.8498 - val_loss: 1.9476 - val_accuracy: 0.5586\n",
            "Epoch 30/100\n",
            "8/8 [==============================] - 20s 3s/step - loss: 0.2970 - accuracy: 0.8888 - val_loss: 1.6522 - val_accuracy: 0.5742\n",
            "Epoch 31/100\n",
            "8/8 [==============================] - 22s 3s/step - loss: 0.3024 - accuracy: 0.8587 - val_loss: 2.9327 - val_accuracy: 0.5195\n",
            "Epoch 32/100\n",
            "8/8 [==============================] - 22s 3s/step - loss: 0.3318 - accuracy: 0.8476 - val_loss: 2.1718 - val_accuracy: 0.5547\n",
            "Epoch 33/100\n",
            "8/8 [==============================] - 22s 3s/step - loss: 0.2761 - accuracy: 0.8821 - val_loss: 1.8602 - val_accuracy: 0.5703\n",
            "Epoch 34/100\n",
            "8/8 [==============================] - 21s 3s/step - loss: 0.3207 - accuracy: 0.8654 - val_loss: 2.2960 - val_accuracy: 0.5547\n",
            "Epoch 35/100\n",
            "8/8 [==============================] - 21s 3s/step - loss: 0.3314 - accuracy: 0.8509 - val_loss: 2.4119 - val_accuracy: 0.5469\n",
            "Epoch 36/100\n",
            "8/8 [==============================] - 21s 3s/step - loss: 0.3585 - accuracy: 0.8543 - val_loss: 2.4855 - val_accuracy: 0.5195\n",
            "Epoch 37/100\n",
            "8/8 [==============================] - 21s 3s/step - loss: 0.2638 - accuracy: 0.8843 - val_loss: 2.3197 - val_accuracy: 0.5508\n",
            "Epoch 38/100\n",
            "8/8 [==============================] - 21s 3s/step - loss: 0.2884 - accuracy: 0.8732 - val_loss: 2.4130 - val_accuracy: 0.5547\n",
            "Epoch 39/100\n",
            "8/8 [==============================] - 21s 3s/step - loss: 0.2536 - accuracy: 0.8966 - val_loss: 2.9873 - val_accuracy: 0.5352\n",
            "Epoch 40/100\n",
            "8/8 [==============================] - 21s 3s/step - loss: 0.2764 - accuracy: 0.8821 - val_loss: 2.5265 - val_accuracy: 0.5547\n",
            "Epoch 41/100\n",
            "8/8 [==============================] - 24s 3s/step - loss: 0.2426 - accuracy: 0.8999 - val_loss: 2.5838 - val_accuracy: 0.5547\n",
            "Epoch 42/100\n",
            "8/8 [==============================] - 21s 3s/step - loss: 0.2610 - accuracy: 0.8843 - val_loss: 2.4855 - val_accuracy: 0.5547\n",
            "Epoch 43/100\n",
            "8/8 [==============================] - 21s 3s/step - loss: 0.2870 - accuracy: 0.8743 - val_loss: 2.1074 - val_accuracy: 0.5781\n",
            "Epoch 44/100\n",
            "8/8 [==============================] - 21s 3s/step - loss: 0.2678 - accuracy: 0.8910 - val_loss: 2.4617 - val_accuracy: 0.5625\n",
            "Epoch 45/100\n",
            "8/8 [==============================] - 24s 3s/step - loss: 0.2188 - accuracy: 0.9111 - val_loss: 2.0567 - val_accuracy: 0.5938\n",
            "Epoch 46/100\n",
            "8/8 [==============================] - 25s 3s/step - loss: 0.3030 - accuracy: 0.8721 - val_loss: 2.7897 - val_accuracy: 0.5391\n",
            "Epoch 47/100\n",
            "8/8 [==============================] - 23s 3s/step - loss: 0.2119 - accuracy: 0.9180 - val_loss: 2.4868 - val_accuracy: 0.5625\n",
            "Epoch 48/100\n",
            "8/8 [==============================] - 21s 3s/step - loss: 0.2213 - accuracy: 0.9077 - val_loss: 2.2121 - val_accuracy: 0.5898\n",
            "Epoch 49/100\n",
            "8/8 [==============================] - 23s 3s/step - loss: 0.2742 - accuracy: 0.8770 - val_loss: 2.0112 - val_accuracy: 0.6016\n",
            "Epoch 50/100\n",
            "8/8 [==============================] - 21s 3s/step - loss: 0.2259 - accuracy: 0.9088 - val_loss: 3.4604 - val_accuracy: 0.5234\n",
            "Epoch 51/100\n",
            "8/8 [==============================] - 21s 3s/step - loss: 0.2391 - accuracy: 0.8966 - val_loss: 2.3871 - val_accuracy: 0.5625\n",
            "Epoch 52/100\n",
            "8/8 [==============================] - 22s 3s/step - loss: 0.2963 - accuracy: 0.8754 - val_loss: 2.3585 - val_accuracy: 0.5625\n",
            "Epoch 53/100\n",
            "8/8 [==============================] - 25s 3s/step - loss: 0.1827 - accuracy: 0.9377 - val_loss: 2.9669 - val_accuracy: 0.5469\n",
            "Epoch 54/100\n",
            "8/8 [==============================] - 23s 3s/step - loss: 0.2439 - accuracy: 0.9023 - val_loss: 2.1344 - val_accuracy: 0.5938\n",
            "Epoch 55/100\n",
            "8/8 [==============================] - 21s 3s/step - loss: 0.1961 - accuracy: 0.9310 - val_loss: 2.6871 - val_accuracy: 0.5312\n",
            "Epoch 56/100\n",
            "8/8 [==============================] - 21s 3s/step - loss: 0.1978 - accuracy: 0.9232 - val_loss: 1.3039 - val_accuracy: 0.6875\n",
            "Epoch 57/100\n",
            "8/8 [==============================] - 21s 3s/step - loss: 0.2449 - accuracy: 0.9021 - val_loss: 2.6342 - val_accuracy: 0.5625\n",
            "Epoch 58/100\n",
            "8/8 [==============================] - 24s 3s/step - loss: 0.2214 - accuracy: 0.8988 - val_loss: 4.0976 - val_accuracy: 0.5156\n",
            "Epoch 59/100\n",
            "8/8 [==============================] - 22s 3s/step - loss: 0.2203 - accuracy: 0.9110 - val_loss: 2.0364 - val_accuracy: 0.5977\n",
            "Epoch 60/100\n",
            "8/8 [==============================] - 22s 3s/step - loss: 0.2435 - accuracy: 0.8999 - val_loss: 2.7721 - val_accuracy: 0.5469\n",
            "Epoch 61/100\n",
            "8/8 [==============================] - 24s 3s/step - loss: 0.1753 - accuracy: 0.9297 - val_loss: 3.4652 - val_accuracy: 0.5273\n",
            "Epoch 62/100\n",
            "8/8 [==============================] - 24s 3s/step - loss: 0.2198 - accuracy: 0.9092 - val_loss: 2.8398 - val_accuracy: 0.5508\n",
            "Epoch 63/100\n",
            "8/8 [==============================] - 21s 3s/step - loss: 0.1683 - accuracy: 0.9333 - val_loss: 2.8180 - val_accuracy: 0.5508\n",
            "Epoch 64/100\n",
            "8/8 [==============================] - 21s 3s/step - loss: 0.2206 - accuracy: 0.9055 - val_loss: 3.5667 - val_accuracy: 0.5273\n",
            "Epoch 65/100\n",
            "8/8 [==============================] - 23s 3s/step - loss: 0.1809 - accuracy: 0.9229 - val_loss: 3.4617 - val_accuracy: 0.5352\n",
            "Epoch 66/100\n",
            "8/8 [==============================] - 21s 3s/step - loss: 0.1733 - accuracy: 0.9321 - val_loss: 2.6926 - val_accuracy: 0.5938\n",
            "Epoch 67/100\n",
            "8/8 [==============================] - 25s 3s/step - loss: 0.2656 - accuracy: 0.8966 - val_loss: 3.9345 - val_accuracy: 0.5352\n",
            "Epoch 68/100\n",
            "8/8 [==============================] - 21s 3s/step - loss: 0.1467 - accuracy: 0.9511 - val_loss: 3.1479 - val_accuracy: 0.5664\n",
            "Epoch 69/100\n",
            "8/8 [==============================] - 21s 3s/step - loss: 0.2317 - accuracy: 0.8988 - val_loss: 2.4222 - val_accuracy: 0.6055\n",
            "Epoch 70/100\n",
            "8/8 [==============================] - 21s 3s/step - loss: 0.1541 - accuracy: 0.9422 - val_loss: 3.3965 - val_accuracy: 0.5469\n",
            "Epoch 71/100\n",
            "8/8 [==============================] - 21s 3s/step - loss: 0.2469 - accuracy: 0.8966 - val_loss: 2.1418 - val_accuracy: 0.6406\n",
            "Epoch 72/100\n",
            "8/8 [==============================] - 21s 3s/step - loss: 0.1443 - accuracy: 0.9511 - val_loss: 3.4682 - val_accuracy: 0.5469\n",
            "Epoch 73/100\n",
            "8/8 [==============================] - 24s 3s/step - loss: 0.2078 - accuracy: 0.9160 - val_loss: 3.5979 - val_accuracy: 0.5352\n",
            "Epoch 74/100\n",
            "8/8 [==============================] - 21s 3s/step - loss: 0.1429 - accuracy: 0.9422 - val_loss: 1.4390 - val_accuracy: 0.6914\n",
            "Epoch 75/100\n",
            "8/8 [==============================] - 21s 3s/step - loss: 0.2120 - accuracy: 0.9043 - val_loss: 5.2405 - val_accuracy: 0.5117\n",
            "Epoch 76/100\n",
            "8/8 [==============================] - 22s 3s/step - loss: 0.2505 - accuracy: 0.9021 - val_loss: 2.9633 - val_accuracy: 0.5664\n",
            "Epoch 77/100\n",
            "8/8 [==============================] - 24s 3s/step - loss: 0.1315 - accuracy: 0.9521 - val_loss: 4.0737 - val_accuracy: 0.5273\n",
            "Epoch 78/100\n",
            "8/8 [==============================] - 21s 3s/step - loss: 0.1577 - accuracy: 0.9433 - val_loss: 3.2943 - val_accuracy: 0.5664\n",
            "Epoch 79/100\n",
            "8/8 [==============================] - 21s 3s/step - loss: 0.2262 - accuracy: 0.8999 - val_loss: 3.0384 - val_accuracy: 0.5664\n",
            "Epoch 80/100\n",
            "8/8 [==============================] - 21s 3s/step - loss: 0.1380 - accuracy: 0.9522 - val_loss: 3.1894 - val_accuracy: 0.5781\n",
            "Epoch 81/100\n",
            "8/8 [==============================] - 22s 3s/step - loss: 0.2971 - accuracy: 0.8699 - val_loss: 3.4475 - val_accuracy: 0.5352\n",
            "Epoch 82/100\n",
            "8/8 [==============================] - 23s 3s/step - loss: 0.1337 - accuracy: 0.9502 - val_loss: 3.5813 - val_accuracy: 0.5352\n",
            "Epoch 83/100\n",
            "8/8 [==============================] - 21s 3s/step - loss: 0.1325 - accuracy: 0.9544 - val_loss: 3.1832 - val_accuracy: 0.5820\n",
            "Epoch 84/100\n",
            "8/8 [==============================] - 21s 3s/step - loss: 0.1840 - accuracy: 0.9210 - val_loss: 2.7507 - val_accuracy: 0.6016\n",
            "Epoch 85/100\n",
            "8/8 [==============================] - 22s 3s/step - loss: 0.1182 - accuracy: 0.9544 - val_loss: 4.0160 - val_accuracy: 0.5352\n",
            "Epoch 86/100\n",
            "8/8 [==============================] - 21s 3s/step - loss: 0.1579 - accuracy: 0.9377 - val_loss: 4.9101 - val_accuracy: 0.5156\n",
            "Epoch 87/100\n",
            "8/8 [==============================] - 21s 3s/step - loss: 0.1459 - accuracy: 0.9399 - val_loss: 4.1250 - val_accuracy: 0.5352\n",
            "Epoch 88/100\n",
            "8/8 [==============================] - 21s 3s/step - loss: 0.1370 - accuracy: 0.9477 - val_loss: 2.7871 - val_accuracy: 0.6055\n",
            "Epoch 89/100\n",
            "8/8 [==============================] - 22s 3s/step - loss: 0.1526 - accuracy: 0.9299 - val_loss: 5.0636 - val_accuracy: 0.5234\n",
            "Epoch 90/100\n",
            "8/8 [==============================] - 21s 3s/step - loss: 0.1176 - accuracy: 0.9622 - val_loss: 5.0580 - val_accuracy: 0.5234\n",
            "Epoch 91/100\n",
            "8/8 [==============================] - 22s 3s/step - loss: 0.1877 - accuracy: 0.9266 - val_loss: 3.6525 - val_accuracy: 0.5586\n",
            "Epoch 92/100\n",
            "8/8 [==============================] - 22s 3s/step - loss: 0.0945 - accuracy: 0.9644 - val_loss: 4.4864 - val_accuracy: 0.5352\n",
            "Epoch 93/100\n",
            "8/8 [==============================] - 24s 3s/step - loss: 0.1059 - accuracy: 0.9707 - val_loss: 4.4461 - val_accuracy: 0.5352\n",
            "Epoch 94/100\n",
            "8/8 [==============================] - 22s 3s/step - loss: 0.1802 - accuracy: 0.9277 - val_loss: 3.8999 - val_accuracy: 0.5547\n",
            "Epoch 95/100\n",
            "8/8 [==============================] - 21s 3s/step - loss: 0.2150 - accuracy: 0.9255 - val_loss: 3.8687 - val_accuracy: 0.5547\n",
            "Epoch 96/100\n",
            "8/8 [==============================] - 25s 3s/step - loss: 0.1027 - accuracy: 0.9700 - val_loss: 3.3075 - val_accuracy: 0.5898\n",
            "Epoch 97/100\n",
            "8/8 [==============================] - 22s 3s/step - loss: 0.1075 - accuracy: 0.9644 - val_loss: 4.4367 - val_accuracy: 0.5352\n",
            "Epoch 98/100\n",
            "8/8 [==============================] - 22s 3s/step - loss: 0.2144 - accuracy: 0.9221 - val_loss: 3.6165 - val_accuracy: 0.5664\n",
            "Epoch 99/100\n",
            "8/8 [==============================] - 22s 3s/step - loss: 0.1254 - accuracy: 0.9555 - val_loss: 3.2872 - val_accuracy: 0.5898\n",
            "Epoch 100/100\n",
            "8/8 [==============================] - 22s 3s/step - loss: 0.0966 - accuracy: 0.9666 - val_loss: 4.4168 - val_accuracy: 0.5352\n"
          ],
          "name": "stdout"
        }
      ]
    },
    {
      "cell_type": "code",
      "metadata": {
        "colab_type": "code",
        "id": "7zNPRWOVJdOH",
        "colab": {
          "base_uri": "https://localhost:8080/",
          "height": 545
        },
        "outputId": "8e36dcf8-71a4-44dc-c065-cbb1c8b5cfca"
      },
      "source": [
        "import matplotlib.pyplot as plt\n",
        "acc = history.history['accuracy']\n",
        "val_acc = history.history['val_accuracy']\n",
        "loss = history.history['loss']\n",
        "val_loss = history.history['val_loss']\n",
        "\n",
        "epochs = range(len(acc))\n",
        "\n",
        "plt.plot(epochs, acc, 'r', label='Training accuracy')\n",
        "plt.plot(epochs, val_acc, 'b', label='Validation accuracy')\n",
        "plt.title('Training and validation accuracy')\n",
        "\n",
        "plt.figure()\n",
        "\n",
        "plt.plot(epochs, loss, 'r', label='Training Loss')\n",
        "plt.plot(epochs, val_loss, 'b', label='Validation Loss')\n",
        "plt.title('Training and validation loss')\n",
        "plt.legend()\n",
        "\n",
        "plt.show()"
      ],
      "execution_count": 7,
      "outputs": [
        {
          "output_type": "display_data",
          "data": {
            "image/png": "[encoded data removed]",
            "text/plain": [
              "<Figure size 432x288 with 1 Axes>"
            ]
          },
          "metadata": {
            "tags": [],
            "needs_background": "light"
          }
        },
        {
          "output_type": "display_data",
          "data": {
            "image/png": "[encoded data removed]",
            "text/plain": [
              "<Figure size 432x288 with 1 Axes>"
            ]
          },
          "metadata": {
            "tags": [],
            "needs_background": "light"
          }
        }
      ]
    }
  ]
}